{
 "cells": [
  {
   "cell_type": "code",
   "execution_count": 306,
   "metadata": {
    "collapsed": true
   },
   "outputs": [],
   "source": [
    "import pandas as pd\n",
    "import numpy as np\n",
    "import matplotlib.pyplot as plt\n",
    "%matplotlib inline\n",
    "import seaborn as sns\n",
    "sns.set()\n"
   ]
  },
  {
   "cell_type": "code",
   "execution_count": 307,
   "outputs": [],
   "source": [
    "train = pd.read_csv('train.csv')\n",
    "test = pd.read_csv('test.csv')"
   ],
   "metadata": {
    "collapsed": false
   }
  },
  {
   "cell_type": "code",
   "execution_count": 308,
   "outputs": [
    {
     "data": {
      "text/plain": "  PassengerId HomePlanet CryoSleep  Cabin    Destination   Age    VIP  \\\n0     0001_01     Europa     False  B/0/P    TRAPPIST-1e  39.0  False   \n1     0002_01      Earth     False  F/0/S    TRAPPIST-1e  24.0  False   \n2     0003_01     Europa     False  A/0/S    TRAPPIST-1e  58.0   True   \n3     0003_02     Europa     False  A/0/S    TRAPPIST-1e  33.0  False   \n4     0004_01      Earth     False  F/1/S    TRAPPIST-1e  16.0  False   \n5     0005_01      Earth     False  F/0/P  PSO J318.5-22  44.0  False   \n6     0006_01      Earth     False  F/2/S    TRAPPIST-1e  26.0  False   \n7     0006_02      Earth      True  G/0/S    TRAPPIST-1e  28.0  False   \n8     0007_01      Earth     False  F/3/S    TRAPPIST-1e  35.0  False   \n9     0008_01     Europa      True  B/1/P    55 Cancri e  14.0  False   \n\n   RoomService  FoodCourt  ShoppingMall     Spa  VRDeck                Name  \\\n0          0.0        0.0           0.0     0.0     0.0     Maham Ofracculy   \n1        109.0        9.0          25.0   549.0    44.0        Juanna Vines   \n2         43.0     3576.0           0.0  6715.0    49.0       Altark Susent   \n3          0.0     1283.0         371.0  3329.0   193.0        Solam Susent   \n4        303.0       70.0         151.0   565.0     2.0   Willy Santantines   \n5          0.0      483.0           0.0   291.0     0.0   Sandie Hinetthews   \n6         42.0     1539.0           3.0     0.0     0.0  Billex Jacostaffey   \n7          0.0        0.0           0.0     0.0     NaN  Candra Jacostaffey   \n8          0.0      785.0          17.0   216.0     0.0       Andona Beston   \n9          0.0        0.0           0.0     0.0     0.0      Erraiam Flatic   \n\n   Transported  \n0        False  \n1         True  \n2        False  \n3        False  \n4         True  \n5         True  \n6         True  \n7         True  \n8         True  \n9         True  ",
      "text/html": "<div>\n<style scoped>\n    .dataframe tbody tr th:only-of-type {\n        vertical-align: middle;\n    }\n\n    .dataframe tbody tr th {\n        vertical-align: top;\n    }\n\n    .dataframe thead th {\n        text-align: right;\n    }\n</style>\n<table border=\"1\" class=\"dataframe\">\n  <thead>\n    <tr style=\"text-align: right;\">\n      <th></th>\n      <th>PassengerId</th>\n      <th>HomePlanet</th>\n      <th>CryoSleep</th>\n      <th>Cabin</th>\n      <th>Destination</th>\n      <th>Age</th>\n      <th>VIP</th>\n      <th>RoomService</th>\n      <th>FoodCourt</th>\n      <th>ShoppingMall</th>\n      <th>Spa</th>\n      <th>VRDeck</th>\n      <th>Name</th>\n      <th>Transported</th>\n    </tr>\n  </thead>\n  <tbody>\n    <tr>\n      <th>0</th>\n      <td>0001_01</td>\n      <td>Europa</td>\n      <td>False</td>\n      <td>B/0/P</td>\n      <td>TRAPPIST-1e</td>\n      <td>39.0</td>\n      <td>False</td>\n      <td>0.0</td>\n      <td>0.0</td>\n      <td>0.0</td>\n      <td>0.0</td>\n      <td>0.0</td>\n      <td>Maham Ofracculy</td>\n      <td>False</td>\n    </tr>\n    <tr>\n      <th>1</th>\n      <td>0002_01</td>\n      <td>Earth</td>\n      <td>False</td>\n      <td>F/0/S</td>\n      <td>TRAPPIST-1e</td>\n      <td>24.0</td>\n      <td>False</td>\n      <td>109.0</td>\n      <td>9.0</td>\n      <td>25.0</td>\n      <td>549.0</td>\n      <td>44.0</td>\n      <td>Juanna Vines</td>\n      <td>True</td>\n    </tr>\n    <tr>\n      <th>2</th>\n      <td>0003_01</td>\n      <td>Europa</td>\n      <td>False</td>\n      <td>A/0/S</td>\n      <td>TRAPPIST-1e</td>\n      <td>58.0</td>\n      <td>True</td>\n      <td>43.0</td>\n      <td>3576.0</td>\n      <td>0.0</td>\n      <td>6715.0</td>\n      <td>49.0</td>\n      <td>Altark Susent</td>\n      <td>False</td>\n    </tr>\n    <tr>\n      <th>3</th>\n      <td>0003_02</td>\n      <td>Europa</td>\n      <td>False</td>\n      <td>A/0/S</td>\n      <td>TRAPPIST-1e</td>\n      <td>33.0</td>\n      <td>False</td>\n      <td>0.0</td>\n      <td>1283.0</td>\n      <td>371.0</td>\n      <td>3329.0</td>\n      <td>193.0</td>\n      <td>Solam Susent</td>\n      <td>False</td>\n    </tr>\n    <tr>\n      <th>4</th>\n      <td>0004_01</td>\n      <td>Earth</td>\n      <td>False</td>\n      <td>F/1/S</td>\n      <td>TRAPPIST-1e</td>\n      <td>16.0</td>\n      <td>False</td>\n      <td>303.0</td>\n      <td>70.0</td>\n      <td>151.0</td>\n      <td>565.0</td>\n      <td>2.0</td>\n      <td>Willy Santantines</td>\n      <td>True</td>\n    </tr>\n    <tr>\n      <th>5</th>\n      <td>0005_01</td>\n      <td>Earth</td>\n      <td>False</td>\n      <td>F/0/P</td>\n      <td>PSO J318.5-22</td>\n      <td>44.0</td>\n      <td>False</td>\n      <td>0.0</td>\n      <td>483.0</td>\n      <td>0.0</td>\n      <td>291.0</td>\n      <td>0.0</td>\n      <td>Sandie Hinetthews</td>\n      <td>True</td>\n    </tr>\n    <tr>\n      <th>6</th>\n      <td>0006_01</td>\n      <td>Earth</td>\n      <td>False</td>\n      <td>F/2/S</td>\n      <td>TRAPPIST-1e</td>\n      <td>26.0</td>\n      <td>False</td>\n      <td>42.0</td>\n      <td>1539.0</td>\n      <td>3.0</td>\n      <td>0.0</td>\n      <td>0.0</td>\n      <td>Billex Jacostaffey</td>\n      <td>True</td>\n    </tr>\n    <tr>\n      <th>7</th>\n      <td>0006_02</td>\n      <td>Earth</td>\n      <td>True</td>\n      <td>G/0/S</td>\n      <td>TRAPPIST-1e</td>\n      <td>28.0</td>\n      <td>False</td>\n      <td>0.0</td>\n      <td>0.0</td>\n      <td>0.0</td>\n      <td>0.0</td>\n      <td>NaN</td>\n      <td>Candra Jacostaffey</td>\n      <td>True</td>\n    </tr>\n    <tr>\n      <th>8</th>\n      <td>0007_01</td>\n      <td>Earth</td>\n      <td>False</td>\n      <td>F/3/S</td>\n      <td>TRAPPIST-1e</td>\n      <td>35.0</td>\n      <td>False</td>\n      <td>0.0</td>\n      <td>785.0</td>\n      <td>17.0</td>\n      <td>216.0</td>\n      <td>0.0</td>\n      <td>Andona Beston</td>\n      <td>True</td>\n    </tr>\n    <tr>\n      <th>9</th>\n      <td>0008_01</td>\n      <td>Europa</td>\n      <td>True</td>\n      <td>B/1/P</td>\n      <td>55 Cancri e</td>\n      <td>14.0</td>\n      <td>False</td>\n      <td>0.0</td>\n      <td>0.0</td>\n      <td>0.0</td>\n      <td>0.0</td>\n      <td>0.0</td>\n      <td>Erraiam Flatic</td>\n      <td>True</td>\n    </tr>\n  </tbody>\n</table>\n</div>"
     },
     "execution_count": 308,
     "metadata": {},
     "output_type": "execute_result"
    }
   ],
   "source": [
    "train.head(10)"
   ],
   "metadata": {
    "collapsed": false
   }
  },
  {
   "cell_type": "code",
   "execution_count": 309,
   "outputs": [
    {
     "data": {
      "text/plain": "(8693, 14)"
     },
     "execution_count": 309,
     "metadata": {},
     "output_type": "execute_result"
    }
   ],
   "source": [
    "train.shape"
   ],
   "metadata": {
    "collapsed": false
   }
  },
  {
   "cell_type": "code",
   "execution_count": 310,
   "outputs": [
    {
     "data": {
      "text/plain": "               Age   RoomService     FoodCourt  ShoppingMall           Spa  \\\ncount  8514.000000   8512.000000   8510.000000   8485.000000   8510.000000   \nmean     28.827930    224.687617    458.077203    173.729169    311.138778   \nstd      14.489021    666.717663   1611.489240    604.696458   1136.705535   \nmin       0.000000      0.000000      0.000000      0.000000      0.000000   \n25%      19.000000      0.000000      0.000000      0.000000      0.000000   \n50%      27.000000      0.000000      0.000000      0.000000      0.000000   \n75%      38.000000     47.000000     76.000000     27.000000     59.000000   \nmax      79.000000  14327.000000  29813.000000  23492.000000  22408.000000   \n\n             VRDeck  \ncount   8505.000000  \nmean     304.854791  \nstd     1145.717189  \nmin        0.000000  \n25%        0.000000  \n50%        0.000000  \n75%       46.000000  \nmax    24133.000000  ",
      "text/html": "<div>\n<style scoped>\n    .dataframe tbody tr th:only-of-type {\n        vertical-align: middle;\n    }\n\n    .dataframe tbody tr th {\n        vertical-align: top;\n    }\n\n    .dataframe thead th {\n        text-align: right;\n    }\n</style>\n<table border=\"1\" class=\"dataframe\">\n  <thead>\n    <tr style=\"text-align: right;\">\n      <th></th>\n      <th>Age</th>\n      <th>RoomService</th>\n      <th>FoodCourt</th>\n      <th>ShoppingMall</th>\n      <th>Spa</th>\n      <th>VRDeck</th>\n    </tr>\n  </thead>\n  <tbody>\n    <tr>\n      <th>count</th>\n      <td>8514.000000</td>\n      <td>8512.000000</td>\n      <td>8510.000000</td>\n      <td>8485.000000</td>\n      <td>8510.000000</td>\n      <td>8505.000000</td>\n    </tr>\n    <tr>\n      <th>mean</th>\n      <td>28.827930</td>\n      <td>224.687617</td>\n      <td>458.077203</td>\n      <td>173.729169</td>\n      <td>311.138778</td>\n      <td>304.854791</td>\n    </tr>\n    <tr>\n      <th>std</th>\n      <td>14.489021</td>\n      <td>666.717663</td>\n      <td>1611.489240</td>\n      <td>604.696458</td>\n      <td>1136.705535</td>\n      <td>1145.717189</td>\n    </tr>\n    <tr>\n      <th>min</th>\n      <td>0.000000</td>\n      <td>0.000000</td>\n      <td>0.000000</td>\n      <td>0.000000</td>\n      <td>0.000000</td>\n      <td>0.000000</td>\n    </tr>\n    <tr>\n      <th>25%</th>\n      <td>19.000000</td>\n      <td>0.000000</td>\n      <td>0.000000</td>\n      <td>0.000000</td>\n      <td>0.000000</td>\n      <td>0.000000</td>\n    </tr>\n    <tr>\n      <th>50%</th>\n      <td>27.000000</td>\n      <td>0.000000</td>\n      <td>0.000000</td>\n      <td>0.000000</td>\n      <td>0.000000</td>\n      <td>0.000000</td>\n    </tr>\n    <tr>\n      <th>75%</th>\n      <td>38.000000</td>\n      <td>47.000000</td>\n      <td>76.000000</td>\n      <td>27.000000</td>\n      <td>59.000000</td>\n      <td>46.000000</td>\n    </tr>\n    <tr>\n      <th>max</th>\n      <td>79.000000</td>\n      <td>14327.000000</td>\n      <td>29813.000000</td>\n      <td>23492.000000</td>\n      <td>22408.000000</td>\n      <td>24133.000000</td>\n    </tr>\n  </tbody>\n</table>\n</div>"
     },
     "execution_count": 310,
     "metadata": {},
     "output_type": "execute_result"
    }
   ],
   "source": [
    "train.describe()"
   ],
   "metadata": {
    "collapsed": false
   }
  },
  {
   "cell_type": "code",
   "execution_count": 311,
   "outputs": [
    {
     "data": {
      "text/plain": "       PassengerId HomePlanet CryoSleep    Cabin  Destination    VIP  \\\ncount         8693       8492      8476     8494         8511   8490   \nunique        8693          3         2     6560            3      2   \ntop        0001_01      Earth     False  G/734/S  TRAPPIST-1e  False   \nfreq             1       4602      5439        8         5915   8291   \n\n                  Name  \ncount             8493  \nunique            8473  \ntop     Gollux Reedall  \nfreq                 2  ",
      "text/html": "<div>\n<style scoped>\n    .dataframe tbody tr th:only-of-type {\n        vertical-align: middle;\n    }\n\n    .dataframe tbody tr th {\n        vertical-align: top;\n    }\n\n    .dataframe thead th {\n        text-align: right;\n    }\n</style>\n<table border=\"1\" class=\"dataframe\">\n  <thead>\n    <tr style=\"text-align: right;\">\n      <th></th>\n      <th>PassengerId</th>\n      <th>HomePlanet</th>\n      <th>CryoSleep</th>\n      <th>Cabin</th>\n      <th>Destination</th>\n      <th>VIP</th>\n      <th>Name</th>\n    </tr>\n  </thead>\n  <tbody>\n    <tr>\n      <th>count</th>\n      <td>8693</td>\n      <td>8492</td>\n      <td>8476</td>\n      <td>8494</td>\n      <td>8511</td>\n      <td>8490</td>\n      <td>8493</td>\n    </tr>\n    <tr>\n      <th>unique</th>\n      <td>8693</td>\n      <td>3</td>\n      <td>2</td>\n      <td>6560</td>\n      <td>3</td>\n      <td>2</td>\n      <td>8473</td>\n    </tr>\n    <tr>\n      <th>top</th>\n      <td>0001_01</td>\n      <td>Earth</td>\n      <td>False</td>\n      <td>G/734/S</td>\n      <td>TRAPPIST-1e</td>\n      <td>False</td>\n      <td>Gollux Reedall</td>\n    </tr>\n    <tr>\n      <th>freq</th>\n      <td>1</td>\n      <td>4602</td>\n      <td>5439</td>\n      <td>8</td>\n      <td>5915</td>\n      <td>8291</td>\n      <td>2</td>\n    </tr>\n  </tbody>\n</table>\n</div>"
     },
     "execution_count": 311,
     "metadata": {},
     "output_type": "execute_result"
    }
   ],
   "source": [
    "train.describe(include='O')"
   ],
   "metadata": {
    "collapsed": false
   }
  },
  {
   "cell_type": "code",
   "execution_count": 312,
   "outputs": [
    {
     "name": "stdout",
     "output_type": "stream",
     "text": [
      "<class 'pandas.core.frame.DataFrame'>\n",
      "RangeIndex: 8693 entries, 0 to 8692\n",
      "Data columns (total 14 columns):\n",
      " #   Column        Non-Null Count  Dtype  \n",
      "---  ------        --------------  -----  \n",
      " 0   PassengerId   8693 non-null   object \n",
      " 1   HomePlanet    8492 non-null   object \n",
      " 2   CryoSleep     8476 non-null   object \n",
      " 3   Cabin         8494 non-null   object \n",
      " 4   Destination   8511 non-null   object \n",
      " 5   Age           8514 non-null   float64\n",
      " 6   VIP           8490 non-null   object \n",
      " 7   RoomService   8512 non-null   float64\n",
      " 8   FoodCourt     8510 non-null   float64\n",
      " 9   ShoppingMall  8485 non-null   float64\n",
      " 10  Spa           8510 non-null   float64\n",
      " 11  VRDeck        8505 non-null   float64\n",
      " 12  Name          8493 non-null   object \n",
      " 13  Transported   8693 non-null   bool   \n",
      "dtypes: bool(1), float64(6), object(7)\n",
      "memory usage: 891.5+ KB\n"
     ]
    }
   ],
   "source": [
    "train.info()"
   ],
   "metadata": {
    "collapsed": false
   }
  },
  {
   "cell_type": "code",
   "execution_count": 313,
   "outputs": [
    {
     "data": {
      "text/plain": "PassengerId       0\nHomePlanet      201\nCryoSleep       217\nCabin           199\nDestination     182\nAge             179\nVIP             203\nRoomService     181\nFoodCourt       183\nShoppingMall    208\nSpa             183\nVRDeck          188\nName            200\nTransported       0\ndtype: int64"
     },
     "execution_count": 313,
     "metadata": {},
     "output_type": "execute_result"
    }
   ],
   "source": [
    "train.isnull().sum()"
   ],
   "metadata": {
    "collapsed": false
   }
  },
  {
   "cell_type": "code",
   "execution_count": 314,
   "outputs": [
    {
     "data": {
      "text/plain": "(4277, 13)"
     },
     "execution_count": 314,
     "metadata": {},
     "output_type": "execute_result"
    }
   ],
   "source": [
    "test.shape"
   ],
   "metadata": {
    "collapsed": false
   }
  },
  {
   "cell_type": "code",
   "execution_count": 315,
   "outputs": [
    {
     "data": {
      "text/plain": "  PassengerId HomePlanet CryoSleep  Cabin  Destination   Age    VIP  \\\n0     0013_01      Earth      True  G/3/S  TRAPPIST-1e  27.0  False   \n1     0018_01      Earth     False  F/4/S  TRAPPIST-1e  19.0  False   \n2     0019_01     Europa      True  C/0/S  55 Cancri e  31.0  False   \n3     0021_01     Europa     False  C/1/S  TRAPPIST-1e  38.0  False   \n4     0023_01      Earth     False  F/5/S  TRAPPIST-1e  20.0  False   \n5     0027_01      Earth     False  F/7/P  TRAPPIST-1e  31.0  False   \n6     0029_01     Europa      True  B/2/P  55 Cancri e  21.0  False   \n7     0032_01     Europa      True  D/0/S  TRAPPIST-1e  20.0  False   \n8     0032_02     Europa      True  D/0/S  55 Cancri e  23.0  False   \n9     0033_01      Earth     False  F/7/S  55 Cancri e  24.0  False   \n\n   RoomService  FoodCourt  ShoppingMall     Spa  VRDeck               Name  \n0          0.0        0.0           0.0     0.0     0.0    Nelly Carsoning  \n1          0.0        9.0           0.0  2823.0     0.0     Lerome Peckers  \n2          0.0        0.0           0.0     0.0     0.0    Sabih Unhearfus  \n3          0.0     6652.0           0.0   181.0   585.0   Meratz Caltilter  \n4         10.0        0.0         635.0     0.0     0.0    Brence Harperez  \n5          0.0     1615.0         263.0   113.0    60.0       Karlen Ricks  \n6          0.0        NaN           0.0     0.0     0.0    Aldah Ainserfle  \n7          0.0        0.0           0.0     0.0     0.0     Acrabi Pringry  \n8          0.0        0.0           0.0     0.0     0.0      Dhena Pringry  \n9          0.0      639.0           0.0     0.0     0.0  Eliana Delazarson  ",
      "text/html": "<div>\n<style scoped>\n    .dataframe tbody tr th:only-of-type {\n        vertical-align: middle;\n    }\n\n    .dataframe tbody tr th {\n        vertical-align: top;\n    }\n\n    .dataframe thead th {\n        text-align: right;\n    }\n</style>\n<table border=\"1\" class=\"dataframe\">\n  <thead>\n    <tr style=\"text-align: right;\">\n      <th></th>\n      <th>PassengerId</th>\n      <th>HomePlanet</th>\n      <th>CryoSleep</th>\n      <th>Cabin</th>\n      <th>Destination</th>\n      <th>Age</th>\n      <th>VIP</th>\n      <th>RoomService</th>\n      <th>FoodCourt</th>\n      <th>ShoppingMall</th>\n      <th>Spa</th>\n      <th>VRDeck</th>\n      <th>Name</th>\n    </tr>\n  </thead>\n  <tbody>\n    <tr>\n      <th>0</th>\n      <td>0013_01</td>\n      <td>Earth</td>\n      <td>True</td>\n      <td>G/3/S</td>\n      <td>TRAPPIST-1e</td>\n      <td>27.0</td>\n      <td>False</td>\n      <td>0.0</td>\n      <td>0.0</td>\n      <td>0.0</td>\n      <td>0.0</td>\n      <td>0.0</td>\n      <td>Nelly Carsoning</td>\n    </tr>\n    <tr>\n      <th>1</th>\n      <td>0018_01</td>\n      <td>Earth</td>\n      <td>False</td>\n      <td>F/4/S</td>\n      <td>TRAPPIST-1e</td>\n      <td>19.0</td>\n      <td>False</td>\n      <td>0.0</td>\n      <td>9.0</td>\n      <td>0.0</td>\n      <td>2823.0</td>\n      <td>0.0</td>\n      <td>Lerome Peckers</td>\n    </tr>\n    <tr>\n      <th>2</th>\n      <td>0019_01</td>\n      <td>Europa</td>\n      <td>True</td>\n      <td>C/0/S</td>\n      <td>55 Cancri e</td>\n      <td>31.0</td>\n      <td>False</td>\n      <td>0.0</td>\n      <td>0.0</td>\n      <td>0.0</td>\n      <td>0.0</td>\n      <td>0.0</td>\n      <td>Sabih Unhearfus</td>\n    </tr>\n    <tr>\n      <th>3</th>\n      <td>0021_01</td>\n      <td>Europa</td>\n      <td>False</td>\n      <td>C/1/S</td>\n      <td>TRAPPIST-1e</td>\n      <td>38.0</td>\n      <td>False</td>\n      <td>0.0</td>\n      <td>6652.0</td>\n      <td>0.0</td>\n      <td>181.0</td>\n      <td>585.0</td>\n      <td>Meratz Caltilter</td>\n    </tr>\n    <tr>\n      <th>4</th>\n      <td>0023_01</td>\n      <td>Earth</td>\n      <td>False</td>\n      <td>F/5/S</td>\n      <td>TRAPPIST-1e</td>\n      <td>20.0</td>\n      <td>False</td>\n      <td>10.0</td>\n      <td>0.0</td>\n      <td>635.0</td>\n      <td>0.0</td>\n      <td>0.0</td>\n      <td>Brence Harperez</td>\n    </tr>\n    <tr>\n      <th>5</th>\n      <td>0027_01</td>\n      <td>Earth</td>\n      <td>False</td>\n      <td>F/7/P</td>\n      <td>TRAPPIST-1e</td>\n      <td>31.0</td>\n      <td>False</td>\n      <td>0.0</td>\n      <td>1615.0</td>\n      <td>263.0</td>\n      <td>113.0</td>\n      <td>60.0</td>\n      <td>Karlen Ricks</td>\n    </tr>\n    <tr>\n      <th>6</th>\n      <td>0029_01</td>\n      <td>Europa</td>\n      <td>True</td>\n      <td>B/2/P</td>\n      <td>55 Cancri e</td>\n      <td>21.0</td>\n      <td>False</td>\n      <td>0.0</td>\n      <td>NaN</td>\n      <td>0.0</td>\n      <td>0.0</td>\n      <td>0.0</td>\n      <td>Aldah Ainserfle</td>\n    </tr>\n    <tr>\n      <th>7</th>\n      <td>0032_01</td>\n      <td>Europa</td>\n      <td>True</td>\n      <td>D/0/S</td>\n      <td>TRAPPIST-1e</td>\n      <td>20.0</td>\n      <td>False</td>\n      <td>0.0</td>\n      <td>0.0</td>\n      <td>0.0</td>\n      <td>0.0</td>\n      <td>0.0</td>\n      <td>Acrabi Pringry</td>\n    </tr>\n    <tr>\n      <th>8</th>\n      <td>0032_02</td>\n      <td>Europa</td>\n      <td>True</td>\n      <td>D/0/S</td>\n      <td>55 Cancri e</td>\n      <td>23.0</td>\n      <td>False</td>\n      <td>0.0</td>\n      <td>0.0</td>\n      <td>0.0</td>\n      <td>0.0</td>\n      <td>0.0</td>\n      <td>Dhena Pringry</td>\n    </tr>\n    <tr>\n      <th>9</th>\n      <td>0033_01</td>\n      <td>Earth</td>\n      <td>False</td>\n      <td>F/7/S</td>\n      <td>55 Cancri e</td>\n      <td>24.0</td>\n      <td>False</td>\n      <td>0.0</td>\n      <td>639.0</td>\n      <td>0.0</td>\n      <td>0.0</td>\n      <td>0.0</td>\n      <td>Eliana Delazarson</td>\n    </tr>\n  </tbody>\n</table>\n</div>"
     },
     "execution_count": 315,
     "metadata": {},
     "output_type": "execute_result"
    }
   ],
   "source": [
    "test.head(10)"
   ],
   "metadata": {
    "collapsed": false
   }
  },
  {
   "cell_type": "code",
   "execution_count": 316,
   "outputs": [
    {
     "name": "stdout",
     "output_type": "stream",
     "text": [
      "<class 'pandas.core.frame.DataFrame'>\n",
      "RangeIndex: 4277 entries, 0 to 4276\n",
      "Data columns (total 13 columns):\n",
      " #   Column        Non-Null Count  Dtype  \n",
      "---  ------        --------------  -----  \n",
      " 0   PassengerId   4277 non-null   object \n",
      " 1   HomePlanet    4190 non-null   object \n",
      " 2   CryoSleep     4184 non-null   object \n",
      " 3   Cabin         4177 non-null   object \n",
      " 4   Destination   4185 non-null   object \n",
      " 5   Age           4186 non-null   float64\n",
      " 6   VIP           4184 non-null   object \n",
      " 7   RoomService   4195 non-null   float64\n",
      " 8   FoodCourt     4171 non-null   float64\n",
      " 9   ShoppingMall  4179 non-null   float64\n",
      " 10  Spa           4176 non-null   float64\n",
      " 11  VRDeck        4197 non-null   float64\n",
      " 12  Name          4183 non-null   object \n",
      "dtypes: float64(6), object(7)\n",
      "memory usage: 434.5+ KB\n"
     ]
    }
   ],
   "source": [
    "test.info()"
   ],
   "metadata": {
    "collapsed": false
   }
  },
  {
   "cell_type": "code",
   "execution_count": 317,
   "outputs": [
    {
     "data": {
      "text/plain": "PassengerId       0\nHomePlanet       87\nCryoSleep        93\nCabin           100\nDestination      92\nAge              91\nVIP              93\nRoomService      82\nFoodCourt       106\nShoppingMall     98\nSpa             101\nVRDeck           80\nName             94\ndtype: int64"
     },
     "execution_count": 317,
     "metadata": {},
     "output_type": "execute_result"
    }
   ],
   "source": [
    "test.isnull().sum()"
   ],
   "metadata": {
    "collapsed": false
   }
  },
  {
   "cell_type": "code",
   "execution_count": 318,
   "outputs": [
    {
     "name": "stdout",
     "output_type": "stream",
     "text": [
      "Transported: 4378 (50.4%)\n",
      "Not transported: 4315 (49.6%)\n",
      "Total: 8693\n"
     ]
    }
   ],
   "source": [
    "transported = train[train['Transported'] == True]\n",
    "not_transported = train[train['Transported'] == False]\n",
    "print (\"Transported: %i (%.1f%%)\"%(len(transported), (len(transported))/len(train)*100.0))\n",
    "print (\"Not transported: %i (%.1f%%)\"%(len(not_transported), (len(not_transported))/len(train)*100.0))\n",
    "print (\"Total: %i\"%len(train))"
   ],
   "metadata": {
    "collapsed": false
   }
  },
  {
   "cell_type": "code",
   "execution_count": 319,
   "outputs": [
    {
     "data": {
      "text/plain": "G/734/S     8\nG/109/P     7\nB/201/P     7\nG/1368/P    7\nG/981/S     7\n           ..\nG/556/P     1\nE/231/S     1\nG/545/S     1\nG/543/S     1\nF/947/P     1\nName: Cabin, Length: 6560, dtype: int64"
     },
     "execution_count": 319,
     "metadata": {},
     "output_type": "execute_result"
    }
   ],
   "source": [
    "train.Cabin.value_counts()"
   ],
   "metadata": {
    "collapsed": false
   }
  },
  {
   "cell_type": "code",
   "execution_count": 320,
   "outputs": [
    {
     "data": {
      "text/plain": "Cabin   Transported\nA/0/P   False          1\n        True           1\nA/0/S   False          2\nA/1/S   True           3\nA/10/P  False          1\n                      ..\nT/0/P   False          1\nT/1/P   False          1\nT/2/P   False          1\nT/2/S   False          1\nT/3/P   True           1\nName: Transported, Length: 7169, dtype: int64"
     },
     "execution_count": 320,
     "metadata": {},
     "output_type": "execute_result"
    }
   ],
   "source": [
    "train.groupby('Cabin').Transported.value_counts()"
   ],
   "metadata": {
    "collapsed": false
   }
  },
  {
   "cell_type": "code",
   "execution_count": 321,
   "outputs": [
    {
     "data": {
      "text/plain": "     PassengerId HomePlanet CryoSleep     Cabin    Destination   Age    VIP  \\\n0        0001_01     Europa     False     B/0/P    TRAPPIST-1e  39.0  False   \n1        0002_01      Earth     False     F/0/S    TRAPPIST-1e  24.0  False   \n2        0003_01     Europa     False     A/0/S    TRAPPIST-1e  58.0   True   \n3        0003_02     Europa     False     A/0/S    TRAPPIST-1e  33.0  False   \n4        0004_01      Earth     False     F/1/S    TRAPPIST-1e  16.0  False   \n...          ...        ...       ...       ...            ...   ...    ...   \n8688     9276_01     Europa     False    A/98/P    55 Cancri e  41.0   True   \n8689     9278_01      Earth      True  G/1499/S  PSO J318.5-22  18.0  False   \n8690     9279_01      Earth     False  G/1500/S    TRAPPIST-1e  26.0  False   \n8691     9280_01     Europa     False   E/608/S    55 Cancri e  32.0  False   \n8692     9280_02     Europa     False   E/608/S    TRAPPIST-1e  44.0  False   \n\n      RoomService  FoodCourt  ShoppingMall     Spa  VRDeck               Name  \\\n0             0.0        0.0           0.0     0.0     0.0    Maham Ofracculy   \n1           109.0        9.0          25.0   549.0    44.0       Juanna Vines   \n2            43.0     3576.0           0.0  6715.0    49.0      Altark Susent   \n3             0.0     1283.0         371.0  3329.0   193.0       Solam Susent   \n4           303.0       70.0         151.0   565.0     2.0  Willy Santantines   \n...           ...        ...           ...     ...     ...                ...   \n8688          0.0     6819.0           0.0  1643.0    74.0  Gravior Noxnuther   \n8689          0.0        0.0           0.0     0.0     0.0    Kurta Mondalley   \n8690          0.0        0.0        1872.0     1.0     0.0       Fayey Connon   \n8691          0.0     1049.0           0.0   353.0  3235.0   Celeon Hontichre   \n8692        126.0     4688.0           0.0     0.0    12.0   Propsh Hontichre   \n\n      Transported Side Deck  \n0           False    B    P  \n1            True    F    S  \n2           False    A    S  \n3           False    A    S  \n4            True    F    S  \n...           ...  ...  ...  \n8688        False    A    P  \n8689        False    G    S  \n8690         True    G    S  \n8691        False    E    S  \n8692         True    E    S  \n\n[8693 rows x 16 columns]",
      "text/html": "<div>\n<style scoped>\n    .dataframe tbody tr th:only-of-type {\n        vertical-align: middle;\n    }\n\n    .dataframe tbody tr th {\n        vertical-align: top;\n    }\n\n    .dataframe thead th {\n        text-align: right;\n    }\n</style>\n<table border=\"1\" class=\"dataframe\">\n  <thead>\n    <tr style=\"text-align: right;\">\n      <th></th>\n      <th>PassengerId</th>\n      <th>HomePlanet</th>\n      <th>CryoSleep</th>\n      <th>Cabin</th>\n      <th>Destination</th>\n      <th>Age</th>\n      <th>VIP</th>\n      <th>RoomService</th>\n      <th>FoodCourt</th>\n      <th>ShoppingMall</th>\n      <th>Spa</th>\n      <th>VRDeck</th>\n      <th>Name</th>\n      <th>Transported</th>\n      <th>Side</th>\n      <th>Deck</th>\n    </tr>\n  </thead>\n  <tbody>\n    <tr>\n      <th>0</th>\n      <td>0001_01</td>\n      <td>Europa</td>\n      <td>False</td>\n      <td>B/0/P</td>\n      <td>TRAPPIST-1e</td>\n      <td>39.0</td>\n      <td>False</td>\n      <td>0.0</td>\n      <td>0.0</td>\n      <td>0.0</td>\n      <td>0.0</td>\n      <td>0.0</td>\n      <td>Maham Ofracculy</td>\n      <td>False</td>\n      <td>B</td>\n      <td>P</td>\n    </tr>\n    <tr>\n      <th>1</th>\n      <td>0002_01</td>\n      <td>Earth</td>\n      <td>False</td>\n      <td>F/0/S</td>\n      <td>TRAPPIST-1e</td>\n      <td>24.0</td>\n      <td>False</td>\n      <td>109.0</td>\n      <td>9.0</td>\n      <td>25.0</td>\n      <td>549.0</td>\n      <td>44.0</td>\n      <td>Juanna Vines</td>\n      <td>True</td>\n      <td>F</td>\n      <td>S</td>\n    </tr>\n    <tr>\n      <th>2</th>\n      <td>0003_01</td>\n      <td>Europa</td>\n      <td>False</td>\n      <td>A/0/S</td>\n      <td>TRAPPIST-1e</td>\n      <td>58.0</td>\n      <td>True</td>\n      <td>43.0</td>\n      <td>3576.0</td>\n      <td>0.0</td>\n      <td>6715.0</td>\n      <td>49.0</td>\n      <td>Altark Susent</td>\n      <td>False</td>\n      <td>A</td>\n      <td>S</td>\n    </tr>\n    <tr>\n      <th>3</th>\n      <td>0003_02</td>\n      <td>Europa</td>\n      <td>False</td>\n      <td>A/0/S</td>\n      <td>TRAPPIST-1e</td>\n      <td>33.0</td>\n      <td>False</td>\n      <td>0.0</td>\n      <td>1283.0</td>\n      <td>371.0</td>\n      <td>3329.0</td>\n      <td>193.0</td>\n      <td>Solam Susent</td>\n      <td>False</td>\n      <td>A</td>\n      <td>S</td>\n    </tr>\n    <tr>\n      <th>4</th>\n      <td>0004_01</td>\n      <td>Earth</td>\n      <td>False</td>\n      <td>F/1/S</td>\n      <td>TRAPPIST-1e</td>\n      <td>16.0</td>\n      <td>False</td>\n      <td>303.0</td>\n      <td>70.0</td>\n      <td>151.0</td>\n      <td>565.0</td>\n      <td>2.0</td>\n      <td>Willy Santantines</td>\n      <td>True</td>\n      <td>F</td>\n      <td>S</td>\n    </tr>\n    <tr>\n      <th>...</th>\n      <td>...</td>\n      <td>...</td>\n      <td>...</td>\n      <td>...</td>\n      <td>...</td>\n      <td>...</td>\n      <td>...</td>\n      <td>...</td>\n      <td>...</td>\n      <td>...</td>\n      <td>...</td>\n      <td>...</td>\n      <td>...</td>\n      <td>...</td>\n      <td>...</td>\n      <td>...</td>\n    </tr>\n    <tr>\n      <th>8688</th>\n      <td>9276_01</td>\n      <td>Europa</td>\n      <td>False</td>\n      <td>A/98/P</td>\n      <td>55 Cancri e</td>\n      <td>41.0</td>\n      <td>True</td>\n      <td>0.0</td>\n      <td>6819.0</td>\n      <td>0.0</td>\n      <td>1643.0</td>\n      <td>74.0</td>\n      <td>Gravior Noxnuther</td>\n      <td>False</td>\n      <td>A</td>\n      <td>P</td>\n    </tr>\n    <tr>\n      <th>8689</th>\n      <td>9278_01</td>\n      <td>Earth</td>\n      <td>True</td>\n      <td>G/1499/S</td>\n      <td>PSO J318.5-22</td>\n      <td>18.0</td>\n      <td>False</td>\n      <td>0.0</td>\n      <td>0.0</td>\n      <td>0.0</td>\n      <td>0.0</td>\n      <td>0.0</td>\n      <td>Kurta Mondalley</td>\n      <td>False</td>\n      <td>G</td>\n      <td>S</td>\n    </tr>\n    <tr>\n      <th>8690</th>\n      <td>9279_01</td>\n      <td>Earth</td>\n      <td>False</td>\n      <td>G/1500/S</td>\n      <td>TRAPPIST-1e</td>\n      <td>26.0</td>\n      <td>False</td>\n      <td>0.0</td>\n      <td>0.0</td>\n      <td>1872.0</td>\n      <td>1.0</td>\n      <td>0.0</td>\n      <td>Fayey Connon</td>\n      <td>True</td>\n      <td>G</td>\n      <td>S</td>\n    </tr>\n    <tr>\n      <th>8691</th>\n      <td>9280_01</td>\n      <td>Europa</td>\n      <td>False</td>\n      <td>E/608/S</td>\n      <td>55 Cancri e</td>\n      <td>32.0</td>\n      <td>False</td>\n      <td>0.0</td>\n      <td>1049.0</td>\n      <td>0.0</td>\n      <td>353.0</td>\n      <td>3235.0</td>\n      <td>Celeon Hontichre</td>\n      <td>False</td>\n      <td>E</td>\n      <td>S</td>\n    </tr>\n    <tr>\n      <th>8692</th>\n      <td>9280_02</td>\n      <td>Europa</td>\n      <td>False</td>\n      <td>E/608/S</td>\n      <td>TRAPPIST-1e</td>\n      <td>44.0</td>\n      <td>False</td>\n      <td>126.0</td>\n      <td>4688.0</td>\n      <td>0.0</td>\n      <td>0.0</td>\n      <td>12.0</td>\n      <td>Propsh Hontichre</td>\n      <td>True</td>\n      <td>E</td>\n      <td>S</td>\n    </tr>\n  </tbody>\n</table>\n<p>8693 rows × 16 columns</p>\n</div>"
     },
     "execution_count": 321,
     "metadata": {},
     "output_type": "execute_result"
    }
   ],
   "source": [
    "# train['Side'],train['Cabin number'],train['Deck'] = train.Cabin.str.split('/')\n",
    "train['Side'] = train.Cabin.str[0]\n",
    "train['Deck'] = train.Cabin.str[-1]\n",
    "train\n",
    "# train[['Cabin','Transported']].groupby('Cabin',as_index=False).mean()"
   ],
   "metadata": {
    "collapsed": false
   }
  },
  {
   "cell_type": "code",
   "execution_count": 322,
   "outputs": [],
   "source": [
    "from sklearn.preprocessing import LabelEncoder\n",
    "le = LabelEncoder()\n",
    "train['Side'] = le.fit_transform(train.Side)\n",
    "train['Deck'] = le.fit_transform(train.Deck)"
   ],
   "metadata": {
    "collapsed": false
   }
  },
  {
   "cell_type": "code",
   "execution_count": 323,
   "outputs": [
    {
     "data": {
      "text/plain": "     PassengerId HomePlanet CryoSleep     Cabin    Destination   Age    VIP  \\\n0        0013_01      Earth      True     G/3/S    TRAPPIST-1e  27.0  False   \n1        0018_01      Earth     False     F/4/S    TRAPPIST-1e  19.0  False   \n2        0019_01     Europa      True     C/0/S    55 Cancri e  31.0  False   \n3        0021_01     Europa     False     C/1/S    TRAPPIST-1e  38.0  False   \n4        0023_01      Earth     False     F/5/S    TRAPPIST-1e  20.0  False   \n...          ...        ...       ...       ...            ...   ...    ...   \n4272     9266_02      Earth      True  G/1496/S    TRAPPIST-1e  34.0  False   \n4273     9269_01      Earth     False       NaN    TRAPPIST-1e  42.0  False   \n4274     9271_01       Mars      True   D/296/P    55 Cancri e   NaN  False   \n4275     9273_01     Europa     False   D/297/P            NaN   NaN  False   \n4276     9277_01      Earth      True  G/1498/S  PSO J318.5-22  43.0  False   \n\n      RoomService  FoodCourt  ShoppingMall     Spa  VRDeck              Name  \\\n0             0.0        0.0           0.0     0.0     0.0   Nelly Carsoning   \n1             0.0        9.0           0.0  2823.0     0.0    Lerome Peckers   \n2             0.0        0.0           0.0     0.0     0.0   Sabih Unhearfus   \n3             0.0     6652.0           0.0   181.0   585.0  Meratz Caltilter   \n4            10.0        0.0         635.0     0.0     0.0   Brence Harperez   \n...           ...        ...           ...     ...     ...               ...   \n4272          0.0        0.0           0.0     0.0     0.0       Jeron Peter   \n4273          0.0      847.0          17.0    10.0   144.0     Matty Scheron   \n4274          0.0        0.0           0.0     0.0     0.0       Jayrin Pore   \n4275          0.0     2680.0           0.0     0.0   523.0    Kitakan Conale   \n4276          0.0        0.0           0.0     0.0     0.0  Lilace Leonzaley   \n\n      Side  Deck  \n0        6     1  \n1        5     1  \n2        2     1  \n3        2     1  \n4        5     1  \n...    ...   ...  \n4272     6     1  \n4273     8     2  \n4274     3     0  \n4275     3     0  \n4276     6     1  \n\n[4277 rows x 15 columns]",
      "text/html": "<div>\n<style scoped>\n    .dataframe tbody tr th:only-of-type {\n        vertical-align: middle;\n    }\n\n    .dataframe tbody tr th {\n        vertical-align: top;\n    }\n\n    .dataframe thead th {\n        text-align: right;\n    }\n</style>\n<table border=\"1\" class=\"dataframe\">\n  <thead>\n    <tr style=\"text-align: right;\">\n      <th></th>\n      <th>PassengerId</th>\n      <th>HomePlanet</th>\n      <th>CryoSleep</th>\n      <th>Cabin</th>\n      <th>Destination</th>\n      <th>Age</th>\n      <th>VIP</th>\n      <th>RoomService</th>\n      <th>FoodCourt</th>\n      <th>ShoppingMall</th>\n      <th>Spa</th>\n      <th>VRDeck</th>\n      <th>Name</th>\n      <th>Side</th>\n      <th>Deck</th>\n    </tr>\n  </thead>\n  <tbody>\n    <tr>\n      <th>0</th>\n      <td>0013_01</td>\n      <td>Earth</td>\n      <td>True</td>\n      <td>G/3/S</td>\n      <td>TRAPPIST-1e</td>\n      <td>27.0</td>\n      <td>False</td>\n      <td>0.0</td>\n      <td>0.0</td>\n      <td>0.0</td>\n      <td>0.0</td>\n      <td>0.0</td>\n      <td>Nelly Carsoning</td>\n      <td>6</td>\n      <td>1</td>\n    </tr>\n    <tr>\n      <th>1</th>\n      <td>0018_01</td>\n      <td>Earth</td>\n      <td>False</td>\n      <td>F/4/S</td>\n      <td>TRAPPIST-1e</td>\n      <td>19.0</td>\n      <td>False</td>\n      <td>0.0</td>\n      <td>9.0</td>\n      <td>0.0</td>\n      <td>2823.0</td>\n      <td>0.0</td>\n      <td>Lerome Peckers</td>\n      <td>5</td>\n      <td>1</td>\n    </tr>\n    <tr>\n      <th>2</th>\n      <td>0019_01</td>\n      <td>Europa</td>\n      <td>True</td>\n      <td>C/0/S</td>\n      <td>55 Cancri e</td>\n      <td>31.0</td>\n      <td>False</td>\n      <td>0.0</td>\n      <td>0.0</td>\n      <td>0.0</td>\n      <td>0.0</td>\n      <td>0.0</td>\n      <td>Sabih Unhearfus</td>\n      <td>2</td>\n      <td>1</td>\n    </tr>\n    <tr>\n      <th>3</th>\n      <td>0021_01</td>\n      <td>Europa</td>\n      <td>False</td>\n      <td>C/1/S</td>\n      <td>TRAPPIST-1e</td>\n      <td>38.0</td>\n      <td>False</td>\n      <td>0.0</td>\n      <td>6652.0</td>\n      <td>0.0</td>\n      <td>181.0</td>\n      <td>585.0</td>\n      <td>Meratz Caltilter</td>\n      <td>2</td>\n      <td>1</td>\n    </tr>\n    <tr>\n      <th>4</th>\n      <td>0023_01</td>\n      <td>Earth</td>\n      <td>False</td>\n      <td>F/5/S</td>\n      <td>TRAPPIST-1e</td>\n      <td>20.0</td>\n      <td>False</td>\n      <td>10.0</td>\n      <td>0.0</td>\n      <td>635.0</td>\n      <td>0.0</td>\n      <td>0.0</td>\n      <td>Brence Harperez</td>\n      <td>5</td>\n      <td>1</td>\n    </tr>\n    <tr>\n      <th>...</th>\n      <td>...</td>\n      <td>...</td>\n      <td>...</td>\n      <td>...</td>\n      <td>...</td>\n      <td>...</td>\n      <td>...</td>\n      <td>...</td>\n      <td>...</td>\n      <td>...</td>\n      <td>...</td>\n      <td>...</td>\n      <td>...</td>\n      <td>...</td>\n      <td>...</td>\n    </tr>\n    <tr>\n      <th>4272</th>\n      <td>9266_02</td>\n      <td>Earth</td>\n      <td>True</td>\n      <td>G/1496/S</td>\n      <td>TRAPPIST-1e</td>\n      <td>34.0</td>\n      <td>False</td>\n      <td>0.0</td>\n      <td>0.0</td>\n      <td>0.0</td>\n      <td>0.0</td>\n      <td>0.0</td>\n      <td>Jeron Peter</td>\n      <td>6</td>\n      <td>1</td>\n    </tr>\n    <tr>\n      <th>4273</th>\n      <td>9269_01</td>\n      <td>Earth</td>\n      <td>False</td>\n      <td>NaN</td>\n      <td>TRAPPIST-1e</td>\n      <td>42.0</td>\n      <td>False</td>\n      <td>0.0</td>\n      <td>847.0</td>\n      <td>17.0</td>\n      <td>10.0</td>\n      <td>144.0</td>\n      <td>Matty Scheron</td>\n      <td>8</td>\n      <td>2</td>\n    </tr>\n    <tr>\n      <th>4274</th>\n      <td>9271_01</td>\n      <td>Mars</td>\n      <td>True</td>\n      <td>D/296/P</td>\n      <td>55 Cancri e</td>\n      <td>NaN</td>\n      <td>False</td>\n      <td>0.0</td>\n      <td>0.0</td>\n      <td>0.0</td>\n      <td>0.0</td>\n      <td>0.0</td>\n      <td>Jayrin Pore</td>\n      <td>3</td>\n      <td>0</td>\n    </tr>\n    <tr>\n      <th>4275</th>\n      <td>9273_01</td>\n      <td>Europa</td>\n      <td>False</td>\n      <td>D/297/P</td>\n      <td>NaN</td>\n      <td>NaN</td>\n      <td>False</td>\n      <td>0.0</td>\n      <td>2680.0</td>\n      <td>0.0</td>\n      <td>0.0</td>\n      <td>523.0</td>\n      <td>Kitakan Conale</td>\n      <td>3</td>\n      <td>0</td>\n    </tr>\n    <tr>\n      <th>4276</th>\n      <td>9277_01</td>\n      <td>Earth</td>\n      <td>True</td>\n      <td>G/1498/S</td>\n      <td>PSO J318.5-22</td>\n      <td>43.0</td>\n      <td>False</td>\n      <td>0.0</td>\n      <td>0.0</td>\n      <td>0.0</td>\n      <td>0.0</td>\n      <td>0.0</td>\n      <td>Lilace Leonzaley</td>\n      <td>6</td>\n      <td>1</td>\n    </tr>\n  </tbody>\n</table>\n<p>4277 rows × 15 columns</p>\n</div>"
     },
     "execution_count": 323,
     "metadata": {},
     "output_type": "execute_result"
    }
   ],
   "source": [
    "test['Side'] = test.Cabin.str[0]\n",
    "test['Deck'] = test.Cabin.str[-1]\n",
    "test['Side'] = le.fit_transform(test.Side)\n",
    "test['Deck'] = le.fit_transform(test.Deck)\n",
    "test"
   ],
   "metadata": {
    "collapsed": false
   }
  },
  {
   "cell_type": "code",
   "execution_count": 324,
   "outputs": [
    {
     "data": {
      "text/plain": "Earth     4602\nEuropa    2131\nMars      1759\nName: HomePlanet, dtype: int64"
     },
     "execution_count": 324,
     "metadata": {},
     "output_type": "execute_result"
    }
   ],
   "source": [
    "train.HomePlanet.value_counts()"
   ],
   "metadata": {
    "collapsed": false
   }
  },
  {
   "cell_type": "code",
   "execution_count": 325,
   "outputs": [
    {
     "data": {
      "text/plain": "False    5439\nTrue     3037\nName: CryoSleep, dtype: int64"
     },
     "execution_count": 325,
     "metadata": {},
     "output_type": "execute_result"
    }
   ],
   "source": [
    "train.CryoSleep.value_counts()"
   ],
   "metadata": {
    "collapsed": false
   }
  },
  {
   "cell_type": "code",
   "execution_count": 326,
   "outputs": [],
   "source": [
    "# train.HomePlanet.value_counts()\n",
    "train_test_data = [train,test]\n",
    "for dataset in train_test_data:\n",
    "    dataset['HomePlanet'] = dataset['HomePlanet'].fillna('Earth')\n",
    "    dataset['HomePlanet'] = le.fit_transform(dataset.HomePlanet)"
   ],
   "metadata": {
    "collapsed": false
   }
  },
  {
   "cell_type": "code",
   "execution_count": 327,
   "outputs": [],
   "source": [
    "for dataset in train_test_data:\n",
    "    dataset.drop(['Name'],axis=1,inplace=True)\n",
    "    dataset.drop(['Cabin'],axis=1,inplace=True)\n"
   ],
   "metadata": {
    "collapsed": false
   }
  },
  {
   "cell_type": "code",
   "execution_count": 328,
   "outputs": [
    {
     "data": {
      "text/plain": "     PassengerId  HomePlanet CryoSleep    Destination   Age    VIP  \\\n0        0001_01           1     False    TRAPPIST-1e  39.0  False   \n1        0002_01           0     False    TRAPPIST-1e  24.0  False   \n2        0003_01           1     False    TRAPPIST-1e  58.0   True   \n3        0003_02           1     False    TRAPPIST-1e  33.0  False   \n4        0004_01           0     False    TRAPPIST-1e  16.0  False   \n...          ...         ...       ...            ...   ...    ...   \n8688     9276_01           1     False    55 Cancri e  41.0   True   \n8689     9278_01           0      True  PSO J318.5-22  18.0  False   \n8690     9279_01           0     False    TRAPPIST-1e  26.0  False   \n8691     9280_01           1     False    55 Cancri e  32.0  False   \n8692     9280_02           1     False    TRAPPIST-1e  44.0  False   \n\n      RoomService  FoodCourt  ShoppingMall     Spa  VRDeck  Transported  Side  \\\n0             0.0        0.0           0.0     0.0     0.0        False     1   \n1           109.0        9.0          25.0   549.0    44.0         True     5   \n2            43.0     3576.0           0.0  6715.0    49.0        False     0   \n3             0.0     1283.0         371.0  3329.0   193.0        False     0   \n4           303.0       70.0         151.0   565.0     2.0         True     5   \n...           ...        ...           ...     ...     ...          ...   ...   \n8688          0.0     6819.0           0.0  1643.0    74.0        False     0   \n8689          0.0        0.0           0.0     0.0     0.0        False     6   \n8690          0.0        0.0        1872.0     1.0     0.0         True     6   \n8691          0.0     1049.0           0.0   353.0  3235.0        False     4   \n8692        126.0     4688.0           0.0     0.0    12.0         True     4   \n\n      Deck  \n0        0  \n1        1  \n2        1  \n3        1  \n4        1  \n...    ...  \n8688     0  \n8689     1  \n8690     1  \n8691     1  \n8692     1  \n\n[8693 rows x 14 columns]",
      "text/html": "<div>\n<style scoped>\n    .dataframe tbody tr th:only-of-type {\n        vertical-align: middle;\n    }\n\n    .dataframe tbody tr th {\n        vertical-align: top;\n    }\n\n    .dataframe thead th {\n        text-align: right;\n    }\n</style>\n<table border=\"1\" class=\"dataframe\">\n  <thead>\n    <tr style=\"text-align: right;\">\n      <th></th>\n      <th>PassengerId</th>\n      <th>HomePlanet</th>\n      <th>CryoSleep</th>\n      <th>Destination</th>\n      <th>Age</th>\n      <th>VIP</th>\n      <th>RoomService</th>\n      <th>FoodCourt</th>\n      <th>ShoppingMall</th>\n      <th>Spa</th>\n      <th>VRDeck</th>\n      <th>Transported</th>\n      <th>Side</th>\n      <th>Deck</th>\n    </tr>\n  </thead>\n  <tbody>\n    <tr>\n      <th>0</th>\n      <td>0001_01</td>\n      <td>1</td>\n      <td>False</td>\n      <td>TRAPPIST-1e</td>\n      <td>39.0</td>\n      <td>False</td>\n      <td>0.0</td>\n      <td>0.0</td>\n      <td>0.0</td>\n      <td>0.0</td>\n      <td>0.0</td>\n      <td>False</td>\n      <td>1</td>\n      <td>0</td>\n    </tr>\n    <tr>\n      <th>1</th>\n      <td>0002_01</td>\n      <td>0</td>\n      <td>False</td>\n      <td>TRAPPIST-1e</td>\n      <td>24.0</td>\n      <td>False</td>\n      <td>109.0</td>\n      <td>9.0</td>\n      <td>25.0</td>\n      <td>549.0</td>\n      <td>44.0</td>\n      <td>True</td>\n      <td>5</td>\n      <td>1</td>\n    </tr>\n    <tr>\n      <th>2</th>\n      <td>0003_01</td>\n      <td>1</td>\n      <td>False</td>\n      <td>TRAPPIST-1e</td>\n      <td>58.0</td>\n      <td>True</td>\n      <td>43.0</td>\n      <td>3576.0</td>\n      <td>0.0</td>\n      <td>6715.0</td>\n      <td>49.0</td>\n      <td>False</td>\n      <td>0</td>\n      <td>1</td>\n    </tr>\n    <tr>\n      <th>3</th>\n      <td>0003_02</td>\n      <td>1</td>\n      <td>False</td>\n      <td>TRAPPIST-1e</td>\n      <td>33.0</td>\n      <td>False</td>\n      <td>0.0</td>\n      <td>1283.0</td>\n      <td>371.0</td>\n      <td>3329.0</td>\n      <td>193.0</td>\n      <td>False</td>\n      <td>0</td>\n      <td>1</td>\n    </tr>\n    <tr>\n      <th>4</th>\n      <td>0004_01</td>\n      <td>0</td>\n      <td>False</td>\n      <td>TRAPPIST-1e</td>\n      <td>16.0</td>\n      <td>False</td>\n      <td>303.0</td>\n      <td>70.0</td>\n      <td>151.0</td>\n      <td>565.0</td>\n      <td>2.0</td>\n      <td>True</td>\n      <td>5</td>\n      <td>1</td>\n    </tr>\n    <tr>\n      <th>...</th>\n      <td>...</td>\n      <td>...</td>\n      <td>...</td>\n      <td>...</td>\n      <td>...</td>\n      <td>...</td>\n      <td>...</td>\n      <td>...</td>\n      <td>...</td>\n      <td>...</td>\n      <td>...</td>\n      <td>...</td>\n      <td>...</td>\n      <td>...</td>\n    </tr>\n    <tr>\n      <th>8688</th>\n      <td>9276_01</td>\n      <td>1</td>\n      <td>False</td>\n      <td>55 Cancri e</td>\n      <td>41.0</td>\n      <td>True</td>\n      <td>0.0</td>\n      <td>6819.0</td>\n      <td>0.0</td>\n      <td>1643.0</td>\n      <td>74.0</td>\n      <td>False</td>\n      <td>0</td>\n      <td>0</td>\n    </tr>\n    <tr>\n      <th>8689</th>\n      <td>9278_01</td>\n      <td>0</td>\n      <td>True</td>\n      <td>PSO J318.5-22</td>\n      <td>18.0</td>\n      <td>False</td>\n      <td>0.0</td>\n      <td>0.0</td>\n      <td>0.0</td>\n      <td>0.0</td>\n      <td>0.0</td>\n      <td>False</td>\n      <td>6</td>\n      <td>1</td>\n    </tr>\n    <tr>\n      <th>8690</th>\n      <td>9279_01</td>\n      <td>0</td>\n      <td>False</td>\n      <td>TRAPPIST-1e</td>\n      <td>26.0</td>\n      <td>False</td>\n      <td>0.0</td>\n      <td>0.0</td>\n      <td>1872.0</td>\n      <td>1.0</td>\n      <td>0.0</td>\n      <td>True</td>\n      <td>6</td>\n      <td>1</td>\n    </tr>\n    <tr>\n      <th>8691</th>\n      <td>9280_01</td>\n      <td>1</td>\n      <td>False</td>\n      <td>55 Cancri e</td>\n      <td>32.0</td>\n      <td>False</td>\n      <td>0.0</td>\n      <td>1049.0</td>\n      <td>0.0</td>\n      <td>353.0</td>\n      <td>3235.0</td>\n      <td>False</td>\n      <td>4</td>\n      <td>1</td>\n    </tr>\n    <tr>\n      <th>8692</th>\n      <td>9280_02</td>\n      <td>1</td>\n      <td>False</td>\n      <td>TRAPPIST-1e</td>\n      <td>44.0</td>\n      <td>False</td>\n      <td>126.0</td>\n      <td>4688.0</td>\n      <td>0.0</td>\n      <td>0.0</td>\n      <td>12.0</td>\n      <td>True</td>\n      <td>4</td>\n      <td>1</td>\n    </tr>\n  </tbody>\n</table>\n<p>8693 rows × 14 columns</p>\n</div>"
     },
     "execution_count": 328,
     "metadata": {},
     "output_type": "execute_result"
    }
   ],
   "source": [
    "train"
   ],
   "metadata": {
    "collapsed": false
   }
  },
  {
   "cell_type": "code",
   "execution_count": 329,
   "outputs": [],
   "source": [
    "for dataset in train_test_data:\n",
    "    dataset['CryoSleep'] = dataset['CryoSleep'].fillna(False)\n",
    "    dataset['CryoSleep'] = le.fit_transform(dataset.CryoSleep)"
   ],
   "metadata": {
    "collapsed": false
   }
  },
  {
   "cell_type": "code",
   "execution_count": 330,
   "outputs": [
    {
     "name": "stdout",
     "output_type": "stream",
     "text": [
      "          AgeBand  Transported\n",
      "0  (-0.079, 15.8]     0.646918\n",
      "1    (15.8, 31.6]     0.475654\n",
      "2    (31.6, 47.4]     0.485058\n",
      "3    (47.4, 63.2]     0.486747\n",
      "4    (63.2, 79.0]     0.463235\n"
     ]
    },
    {
     "name": "stderr",
     "output_type": "stream",
     "text": [
      "C:\\Users\\Александр\\AppData\\Local\\Temp\\ipykernel_6924\\986467251.py:7: SettingWithCopyWarning: \n",
      "A value is trying to be set on a copy of a slice from a DataFrame\n",
      "\n",
      "See the caveats in the documentation: https://pandas.pydata.org/pandas-docs/stable/user_guide/indexing.html#returning-a-view-versus-a-copy\n",
      "  dataset['Age'][np.isnan(dataset['Age'])] = age_null_random_list\n"
     ]
    }
   ],
   "source": [
    "for dataset in train_test_data:\n",
    "    age_avg = dataset['Age'].mean()\n",
    "    age_std = dataset['Age'].std()\n",
    "    age_null_count = dataset['Age'].isnull().sum()\n",
    "\n",
    "    age_null_random_list = np.random.randint(age_avg - age_std,age_avg+age_std,size=age_null_count)\n",
    "    dataset['Age'][np.isnan(dataset['Age'])] = age_null_random_list\n",
    "    dataset['Age'] = dataset['Age'].astype(int)\n",
    "train['AgeBand'] = pd.cut(train['Age'],5)\n",
    "print(train[['AgeBand','Transported']].groupby(['AgeBand'],as_index=False).mean())"
   ],
   "metadata": {
    "collapsed": false
   }
  },
  {
   "cell_type": "code",
   "execution_count": 331,
   "outputs": [],
   "source": [
    "for dataset in train_test_data:\n",
    "    dataset.loc[ dataset['Age'] <= 16, 'Age'] = 0\n",
    "    dataset.loc[(dataset['Age'] > 16) & (dataset['Age'] <= 32), 'Age'] = 1\n",
    "    dataset.loc[(dataset['Age'] > 32) & (dataset['Age'] <= 48), 'Age'] = 2\n",
    "    dataset.loc[(dataset['Age'] > 48) & (dataset['Age'] <= 64), 'Age'] = 3\n",
    "    dataset.loc[ dataset['Age'] > 64, 'Age'] = 4"
   ],
   "metadata": {
    "collapsed": false
   }
  },
  {
   "cell_type": "code",
   "execution_count": 332,
   "outputs": [],
   "source": [
    "for dataset in train_test_data:\n",
    "    dataset['RoomService'] = dataset['RoomService'].fillna(train['RoomService'].median())\n",
    "    dataset['ShoppingMall'] = dataset['ShoppingMall'].fillna(train['ShoppingMall'].median())\n",
    "    dataset['FoodCourt'] = dataset['FoodCourt'].fillna(train['FoodCourt'].median())\n",
    "    dataset['Spa'] = dataset['Spa'].fillna(train['Spa'].median())\n",
    "    dataset['VRDeck'] = dataset['VRDeck'].fillna(train['VRDeck'].median())"
   ],
   "metadata": {
    "collapsed": false
   }
  },
  {
   "cell_type": "code",
   "execution_count": 333,
   "outputs": [],
   "source": [
    "for dataset in train_test_data:\n",
    "    dataset['VIP'] = dataset['VIP'].fillna(False)\n",
    "    dataset['VIP'] = le.fit_transform(dataset.VIP)"
   ],
   "metadata": {
    "collapsed": false
   }
  },
  {
   "cell_type": "code",
   "execution_count": 334,
   "outputs": [
    {
     "data": {
      "text/plain": "     PassengerId  HomePlanet  CryoSleep    Destination  Age  VIP  RoomService  \\\n0        0001_01           1          0    TRAPPIST-1e    2    0          0.0   \n1        0002_01           0          0    TRAPPIST-1e    1    0        109.0   \n2        0003_01           1          0    TRAPPIST-1e    3    1         43.0   \n3        0003_02           1          0    TRAPPIST-1e    2    0          0.0   \n4        0004_01           0          0    TRAPPIST-1e    0    0        303.0   \n...          ...         ...        ...            ...  ...  ...          ...   \n8688     9276_01           1          0    55 Cancri e    2    1          0.0   \n8689     9278_01           0          1  PSO J318.5-22    1    0          0.0   \n8690     9279_01           0          0    TRAPPIST-1e    1    0          0.0   \n8691     9280_01           1          0    55 Cancri e    1    0          0.0   \n8692     9280_02           1          0    TRAPPIST-1e    2    0        126.0   \n\n      FoodCourt  ShoppingMall     Spa  VRDeck  Transported  Side  Deck  \\\n0           0.0           0.0     0.0     0.0        False     1     0   \n1           9.0          25.0   549.0    44.0         True     5     1   \n2        3576.0           0.0  6715.0    49.0        False     0     1   \n3        1283.0         371.0  3329.0   193.0        False     0     1   \n4          70.0         151.0   565.0     2.0         True     5     1   \n...         ...           ...     ...     ...          ...   ...   ...   \n8688     6819.0           0.0  1643.0    74.0        False     0     0   \n8689        0.0           0.0     0.0     0.0        False     6     1   \n8690        0.0        1872.0     1.0     0.0         True     6     1   \n8691     1049.0           0.0   353.0  3235.0        False     4     1   \n8692     4688.0           0.0     0.0    12.0         True     4     1   \n\n           AgeBand  \n0     (31.6, 47.4]  \n1     (15.8, 31.6]  \n2     (47.4, 63.2]  \n3     (31.6, 47.4]  \n4     (15.8, 31.6]  \n...            ...  \n8688  (31.6, 47.4]  \n8689  (15.8, 31.6]  \n8690  (15.8, 31.6]  \n8691  (31.6, 47.4]  \n8692  (31.6, 47.4]  \n\n[8693 rows x 15 columns]",
      "text/html": "<div>\n<style scoped>\n    .dataframe tbody tr th:only-of-type {\n        vertical-align: middle;\n    }\n\n    .dataframe tbody tr th {\n        vertical-align: top;\n    }\n\n    .dataframe thead th {\n        text-align: right;\n    }\n</style>\n<table border=\"1\" class=\"dataframe\">\n  <thead>\n    <tr style=\"text-align: right;\">\n      <th></th>\n      <th>PassengerId</th>\n      <th>HomePlanet</th>\n      <th>CryoSleep</th>\n      <th>Destination</th>\n      <th>Age</th>\n      <th>VIP</th>\n      <th>RoomService</th>\n      <th>FoodCourt</th>\n      <th>ShoppingMall</th>\n      <th>Spa</th>\n      <th>VRDeck</th>\n      <th>Transported</th>\n      <th>Side</th>\n      <th>Deck</th>\n      <th>AgeBand</th>\n    </tr>\n  </thead>\n  <tbody>\n    <tr>\n      <th>0</th>\n      <td>0001_01</td>\n      <td>1</td>\n      <td>0</td>\n      <td>TRAPPIST-1e</td>\n      <td>2</td>\n      <td>0</td>\n      <td>0.0</td>\n      <td>0.0</td>\n      <td>0.0</td>\n      <td>0.0</td>\n      <td>0.0</td>\n      <td>False</td>\n      <td>1</td>\n      <td>0</td>\n      <td>(31.6, 47.4]</td>\n    </tr>\n    <tr>\n      <th>1</th>\n      <td>0002_01</td>\n      <td>0</td>\n      <td>0</td>\n      <td>TRAPPIST-1e</td>\n      <td>1</td>\n      <td>0</td>\n      <td>109.0</td>\n      <td>9.0</td>\n      <td>25.0</td>\n      <td>549.0</td>\n      <td>44.0</td>\n      <td>True</td>\n      <td>5</td>\n      <td>1</td>\n      <td>(15.8, 31.6]</td>\n    </tr>\n    <tr>\n      <th>2</th>\n      <td>0003_01</td>\n      <td>1</td>\n      <td>0</td>\n      <td>TRAPPIST-1e</td>\n      <td>3</td>\n      <td>1</td>\n      <td>43.0</td>\n      <td>3576.0</td>\n      <td>0.0</td>\n      <td>6715.0</td>\n      <td>49.0</td>\n      <td>False</td>\n      <td>0</td>\n      <td>1</td>\n      <td>(47.4, 63.2]</td>\n    </tr>\n    <tr>\n      <th>3</th>\n      <td>0003_02</td>\n      <td>1</td>\n      <td>0</td>\n      <td>TRAPPIST-1e</td>\n      <td>2</td>\n      <td>0</td>\n      <td>0.0</td>\n      <td>1283.0</td>\n      <td>371.0</td>\n      <td>3329.0</td>\n      <td>193.0</td>\n      <td>False</td>\n      <td>0</td>\n      <td>1</td>\n      <td>(31.6, 47.4]</td>\n    </tr>\n    <tr>\n      <th>4</th>\n      <td>0004_01</td>\n      <td>0</td>\n      <td>0</td>\n      <td>TRAPPIST-1e</td>\n      <td>0</td>\n      <td>0</td>\n      <td>303.0</td>\n      <td>70.0</td>\n      <td>151.0</td>\n      <td>565.0</td>\n      <td>2.0</td>\n      <td>True</td>\n      <td>5</td>\n      <td>1</td>\n      <td>(15.8, 31.6]</td>\n    </tr>\n    <tr>\n      <th>...</th>\n      <td>...</td>\n      <td>...</td>\n      <td>...</td>\n      <td>...</td>\n      <td>...</td>\n      <td>...</td>\n      <td>...</td>\n      <td>...</td>\n      <td>...</td>\n      <td>...</td>\n      <td>...</td>\n      <td>...</td>\n      <td>...</td>\n      <td>...</td>\n      <td>...</td>\n    </tr>\n    <tr>\n      <th>8688</th>\n      <td>9276_01</td>\n      <td>1</td>\n      <td>0</td>\n      <td>55 Cancri e</td>\n      <td>2</td>\n      <td>1</td>\n      <td>0.0</td>\n      <td>6819.0</td>\n      <td>0.0</td>\n      <td>1643.0</td>\n      <td>74.0</td>\n      <td>False</td>\n      <td>0</td>\n      <td>0</td>\n      <td>(31.6, 47.4]</td>\n    </tr>\n    <tr>\n      <th>8689</th>\n      <td>9278_01</td>\n      <td>0</td>\n      <td>1</td>\n      <td>PSO J318.5-22</td>\n      <td>1</td>\n      <td>0</td>\n      <td>0.0</td>\n      <td>0.0</td>\n      <td>0.0</td>\n      <td>0.0</td>\n      <td>0.0</td>\n      <td>False</td>\n      <td>6</td>\n      <td>1</td>\n      <td>(15.8, 31.6]</td>\n    </tr>\n    <tr>\n      <th>8690</th>\n      <td>9279_01</td>\n      <td>0</td>\n      <td>0</td>\n      <td>TRAPPIST-1e</td>\n      <td>1</td>\n      <td>0</td>\n      <td>0.0</td>\n      <td>0.0</td>\n      <td>1872.0</td>\n      <td>1.0</td>\n      <td>0.0</td>\n      <td>True</td>\n      <td>6</td>\n      <td>1</td>\n      <td>(15.8, 31.6]</td>\n    </tr>\n    <tr>\n      <th>8691</th>\n      <td>9280_01</td>\n      <td>1</td>\n      <td>0</td>\n      <td>55 Cancri e</td>\n      <td>1</td>\n      <td>0</td>\n      <td>0.0</td>\n      <td>1049.0</td>\n      <td>0.0</td>\n      <td>353.0</td>\n      <td>3235.0</td>\n      <td>False</td>\n      <td>4</td>\n      <td>1</td>\n      <td>(31.6, 47.4]</td>\n    </tr>\n    <tr>\n      <th>8692</th>\n      <td>9280_02</td>\n      <td>1</td>\n      <td>0</td>\n      <td>TRAPPIST-1e</td>\n      <td>2</td>\n      <td>0</td>\n      <td>126.0</td>\n      <td>4688.0</td>\n      <td>0.0</td>\n      <td>0.0</td>\n      <td>12.0</td>\n      <td>True</td>\n      <td>4</td>\n      <td>1</td>\n      <td>(31.6, 47.4]</td>\n    </tr>\n  </tbody>\n</table>\n<p>8693 rows × 15 columns</p>\n</div>"
     },
     "execution_count": 334,
     "metadata": {},
     "output_type": "execute_result"
    }
   ],
   "source": [
    "train"
   ],
   "metadata": {
    "collapsed": false
   }
  },
  {
   "cell_type": "code",
   "execution_count": 334,
   "outputs": [],
   "source": [],
   "metadata": {
    "collapsed": false
   }
  },
  {
   "cell_type": "code",
   "execution_count": 335,
   "outputs": [
    {
     "data": {
      "text/plain": "PassengerId       0\nHomePlanet        0\nCryoSleep         0\nDestination     182\nAge               0\nVIP               0\nRoomService       0\nFoodCourt         0\nShoppingMall      0\nSpa               0\nVRDeck            0\nTransported       0\nSide              0\nDeck              0\nAgeBand           0\ndtype: int64"
     },
     "execution_count": 335,
     "metadata": {},
     "output_type": "execute_result"
    }
   ],
   "source": [
    "train.isnull().sum()"
   ],
   "metadata": {
    "collapsed": false
   }
  },
  {
   "cell_type": "code",
   "execution_count": 336,
   "outputs": [
    {
     "data": {
      "text/plain": "TRAPPIST-1e      5915\n55 Cancri e      1800\nPSO J318.5-22     796\nName: Destination, dtype: int64"
     },
     "execution_count": 336,
     "metadata": {},
     "output_type": "execute_result"
    }
   ],
   "source": [
    "train.Destination.value_counts()"
   ],
   "metadata": {
    "collapsed": false
   }
  },
  {
   "cell_type": "code",
   "execution_count": 337,
   "outputs": [],
   "source": [
    "for dataset in train_test_data:\n",
    "    dataset['Destination'] = dataset['Destination'].fillna('TRAPPIST - 1e')\n",
    "    dataset['Destination'] = le.fit_transform(dataset.Destination)"
   ],
   "metadata": {
    "collapsed": false
   }
  },
  {
   "cell_type": "code",
   "execution_count": 338,
   "outputs": [],
   "source": [
    "for dataset in train_test_data:\n",
    "    dataset['Destination'] = le.fit_transform(dataset.Destination)"
   ],
   "metadata": {
    "collapsed": false
   }
  },
  {
   "cell_type": "code",
   "execution_count": 339,
   "outputs": [
    {
     "name": "stdout",
     "output_type": "stream",
     "text": [
      "             RoomBand  Transported\n",
      "0   (-14.327, 2865.4]     0.508788\n",
      "1    (2865.4, 5730.8]     0.085366\n",
      "2    (5730.8, 8596.2]     0.000000\n",
      "3   (8596.2, 11461.6]     0.000000\n",
      "4  (11461.6, 14327.0]     0.000000\n"
     ]
    },
    {
     "name": "stderr",
     "output_type": "stream",
     "text": [
      "C:\\Users\\Александр\\AppData\\Local\\Temp\\ipykernel_6924\\1260178758.py:7: SettingWithCopyWarning: \n",
      "A value is trying to be set on a copy of a slice from a DataFrame\n",
      "\n",
      "See the caveats in the documentation: https://pandas.pydata.org/pandas-docs/stable/user_guide/indexing.html#returning-a-view-versus-a-copy\n",
      "  dataset['RoomService'][np.isnan(dataset['RoomService'])] = room_null_random_list\n"
     ]
    }
   ],
   "source": [
    "for dataset in train_test_data:\n",
    "    room_avg = dataset['RoomService'].mean()\n",
    "    room_std = dataset['RoomService'].std()\n",
    "    room_null_count = dataset['RoomService'].isnull().sum()\n",
    "\n",
    "    room_null_random_list = np.random.randint(room_avg - room_std, room_avg + room_std, size=room_null_count)\n",
    "    dataset['RoomService'][np.isnan(dataset['RoomService'])] = room_null_random_list\n",
    "    dataset['RoomService'] = dataset['RoomService'].astype(int)\n",
    "\n",
    "train['RoomBand'] = pd.cut(train['RoomService'], 5)\n",
    "\n",
    "print (train[['RoomBand', 'Transported']].groupby(['RoomBand'], as_index=False).mean())"
   ],
   "metadata": {
    "collapsed": false
   }
  },
  {
   "cell_type": "code",
   "execution_count": 340,
   "outputs": [
    {
     "data": {
      "text/plain": "  PassengerId  HomePlanet  CryoSleep  Destination  Age  VIP  RoomService  \\\n0     0001_01           1          0            3    2    0            0   \n1     0002_01           0          0            3    1    0            0   \n2     0003_01           1          0            3    3    1            0   \n3     0003_02           1          0            3    2    0            0   \n4     0004_01           0          0            3    0    0            0   \n\n   FoodCourt  ShoppingMall     Spa  VRDeck  Transported  Side  Deck  \\\n0        0.0           0.0     0.0     0.0        False     1     0   \n1        9.0          25.0   549.0    44.0         True     5     1   \n2     3576.0           0.0  6715.0    49.0        False     0     1   \n3     1283.0         371.0  3329.0   193.0        False     0     1   \n4       70.0         151.0   565.0     2.0         True     5     1   \n\n        AgeBand           RoomBand  \n0  (31.6, 47.4]  (-14.327, 2865.4]  \n1  (15.8, 31.6]  (-14.327, 2865.4]  \n2  (47.4, 63.2]  (-14.327, 2865.4]  \n3  (31.6, 47.4]  (-14.327, 2865.4]  \n4  (15.8, 31.6]  (-14.327, 2865.4]  ",
      "text/html": "<div>\n<style scoped>\n    .dataframe tbody tr th:only-of-type {\n        vertical-align: middle;\n    }\n\n    .dataframe tbody tr th {\n        vertical-align: top;\n    }\n\n    .dataframe thead th {\n        text-align: right;\n    }\n</style>\n<table border=\"1\" class=\"dataframe\">\n  <thead>\n    <tr style=\"text-align: right;\">\n      <th></th>\n      <th>PassengerId</th>\n      <th>HomePlanet</th>\n      <th>CryoSleep</th>\n      <th>Destination</th>\n      <th>Age</th>\n      <th>VIP</th>\n      <th>RoomService</th>\n      <th>FoodCourt</th>\n      <th>ShoppingMall</th>\n      <th>Spa</th>\n      <th>VRDeck</th>\n      <th>Transported</th>\n      <th>Side</th>\n      <th>Deck</th>\n      <th>AgeBand</th>\n      <th>RoomBand</th>\n    </tr>\n  </thead>\n  <tbody>\n    <tr>\n      <th>0</th>\n      <td>0001_01</td>\n      <td>1</td>\n      <td>0</td>\n      <td>3</td>\n      <td>2</td>\n      <td>0</td>\n      <td>0</td>\n      <td>0.0</td>\n      <td>0.0</td>\n      <td>0.0</td>\n      <td>0.0</td>\n      <td>False</td>\n      <td>1</td>\n      <td>0</td>\n      <td>(31.6, 47.4]</td>\n      <td>(-14.327, 2865.4]</td>\n    </tr>\n    <tr>\n      <th>1</th>\n      <td>0002_01</td>\n      <td>0</td>\n      <td>0</td>\n      <td>3</td>\n      <td>1</td>\n      <td>0</td>\n      <td>0</td>\n      <td>9.0</td>\n      <td>25.0</td>\n      <td>549.0</td>\n      <td>44.0</td>\n      <td>True</td>\n      <td>5</td>\n      <td>1</td>\n      <td>(15.8, 31.6]</td>\n      <td>(-14.327, 2865.4]</td>\n    </tr>\n    <tr>\n      <th>2</th>\n      <td>0003_01</td>\n      <td>1</td>\n      <td>0</td>\n      <td>3</td>\n      <td>3</td>\n      <td>1</td>\n      <td>0</td>\n      <td>3576.0</td>\n      <td>0.0</td>\n      <td>6715.0</td>\n      <td>49.0</td>\n      <td>False</td>\n      <td>0</td>\n      <td>1</td>\n      <td>(47.4, 63.2]</td>\n      <td>(-14.327, 2865.4]</td>\n    </tr>\n    <tr>\n      <th>3</th>\n      <td>0003_02</td>\n      <td>1</td>\n      <td>0</td>\n      <td>3</td>\n      <td>2</td>\n      <td>0</td>\n      <td>0</td>\n      <td>1283.0</td>\n      <td>371.0</td>\n      <td>3329.0</td>\n      <td>193.0</td>\n      <td>False</td>\n      <td>0</td>\n      <td>1</td>\n      <td>(31.6, 47.4]</td>\n      <td>(-14.327, 2865.4]</td>\n    </tr>\n    <tr>\n      <th>4</th>\n      <td>0004_01</td>\n      <td>0</td>\n      <td>0</td>\n      <td>3</td>\n      <td>0</td>\n      <td>0</td>\n      <td>0</td>\n      <td>70.0</td>\n      <td>151.0</td>\n      <td>565.0</td>\n      <td>2.0</td>\n      <td>True</td>\n      <td>5</td>\n      <td>1</td>\n      <td>(15.8, 31.6]</td>\n      <td>(-14.327, 2865.4]</td>\n    </tr>\n  </tbody>\n</table>\n</div>"
     },
     "execution_count": 340,
     "metadata": {},
     "output_type": "execute_result"
    }
   ],
   "source": [
    "for dataset in train_test_data:\n",
    "    dataset.loc[ dataset['RoomService'] <= 2865.4, 'RoomService'] = 0\n",
    "    dataset.loc[(dataset['RoomService'] > 2865.4) & (dataset['RoomService'] <= 5730.8), 'RoomService'] = 1\n",
    "    dataset.loc[(dataset['RoomService'] > 5730.8) & (dataset['RoomService'] <= 8596.2), 'RoomService'] = 2\n",
    "    dataset.loc[(dataset['RoomService'] > 8596.2) & (dataset['RoomService'] <= 11461.6), 'RoomService'] = 3\n",
    "    dataset.loc[ dataset['RoomService'] > 11461.8, 'RoomService'] = 4\n",
    "\n",
    "train.head()"
   ],
   "metadata": {
    "collapsed": false
   }
  },
  {
   "cell_type": "code",
   "execution_count": 340,
   "outputs": [],
   "source": [],
   "metadata": {
    "collapsed": false
   }
  },
  {
   "cell_type": "code",
   "execution_count": 341,
   "outputs": [
    {
     "name": "stdout",
     "output_type": "stream",
     "text": [
      "     PassengerId  HomePlanet  CryoSleep  Destination  Age  VIP  RoomService  \\\n",
      "0        0001_01           1          0            3    2    0            0   \n",
      "1        0002_01           0          0            3    1    0            0   \n",
      "2        0003_01           1          0            3    3    1            0   \n",
      "3        0003_02           1          0            3    2    0            0   \n",
      "4        0004_01           0          0            3    0    0            0   \n",
      "...          ...         ...        ...          ...  ...  ...          ...   \n",
      "8688     9276_01           1          0            0    2    1            0   \n",
      "8689     9278_01           0          1            1    1    0            0   \n",
      "8690     9279_01           0          0            3    1    0            0   \n",
      "8691     9280_01           1          0            0    1    0            0   \n",
      "8692     9280_02           1          0            3    2    0            0   \n",
      "\n",
      "      FoodCourt  ShoppingMall     Spa  VRDeck  Transported  Side  Deck  \\\n",
      "0             0           0.0     0.0     0.0        False     1     0   \n",
      "1             9          25.0   549.0    44.0         True     5     1   \n",
      "2          3576           0.0  6715.0    49.0        False     0     1   \n",
      "3          1283         371.0  3329.0   193.0        False     0     1   \n",
      "4            70         151.0   565.0     2.0         True     5     1   \n",
      "...         ...           ...     ...     ...          ...   ...   ...   \n",
      "8688       6819           0.0  1643.0    74.0        False     0     0   \n",
      "8689          0           0.0     0.0     0.0        False     6     1   \n",
      "8690          0        1872.0     1.0     0.0         True     6     1   \n",
      "8691       1049           0.0   353.0  3235.0        False     4     1   \n",
      "8692       4688           0.0     0.0    12.0         True     4     1   \n",
      "\n",
      "           AgeBand           RoomBand           FoodBand  \n",
      "0     (31.6, 47.4]  (-14.327, 2865.4]  (-29.813, 5962.6]  \n",
      "1     (15.8, 31.6]  (-14.327, 2865.4]  (-29.813, 5962.6]  \n",
      "2     (47.4, 63.2]  (-14.327, 2865.4]  (-29.813, 5962.6]  \n",
      "3     (31.6, 47.4]  (-14.327, 2865.4]  (-29.813, 5962.6]  \n",
      "4     (15.8, 31.6]  (-14.327, 2865.4]  (-29.813, 5962.6]  \n",
      "...            ...                ...                ...  \n",
      "8688  (31.6, 47.4]  (-14.327, 2865.4]  (5962.6, 11925.2]  \n",
      "8689  (15.8, 31.6]  (-14.327, 2865.4]  (-29.813, 5962.6]  \n",
      "8690  (15.8, 31.6]  (-14.327, 2865.4]  (-29.813, 5962.6]  \n",
      "8691  (31.6, 47.4]  (-14.327, 2865.4]  (-29.813, 5962.6]  \n",
      "8692  (31.6, 47.4]  (-14.327, 2865.4]  (-29.813, 5962.6]  \n",
      "\n",
      "[8693 rows x 17 columns]\n",
      "      FoodCourt  Transported\n",
      "0    284.180414     0.500878\n",
      "1   8194.964912     0.631579\n",
      "2  14511.583333     0.708333\n",
      "3  18851.500000     1.000000\n",
      "4  27859.250000     1.000000\n"
     ]
    },
    {
     "name": "stderr",
     "output_type": "stream",
     "text": [
      "C:\\Users\\Александр\\AppData\\Local\\Temp\\ipykernel_6924\\2553197113.py:7: SettingWithCopyWarning: \n",
      "A value is trying to be set on a copy of a slice from a DataFrame\n",
      "\n",
      "See the caveats in the documentation: https://pandas.pydata.org/pandas-docs/stable/user_guide/indexing.html#returning-a-view-versus-a-copy\n",
      "  dataset['FoodCourt'][np.isnan(dataset['FoodCourt'])] = food_null_random_list\n"
     ]
    }
   ],
   "source": [
    "for dataset in train_test_data:\n",
    "    food_avg = dataset['FoodCourt'].mean()\n",
    "    food_std = dataset['FoodCourt'].std()\n",
    "    food_null_count = dataset['FoodCourt'].isnull().sum()\n",
    "\n",
    "    food_null_random_list = np.random.randint(food_avg - food_std, food_avg + food_std, size=food_null_count)\n",
    "    dataset['FoodCourt'][np.isnan(dataset['FoodCourt'])] = food_null_random_list\n",
    "    dataset['FoodCourt'] = dataset['FoodCourt'].astype(int)\n",
    "\n",
    "train['FoodBand'] = pd.cut(train['FoodCourt'], 5)\n",
    "print(train)\n",
    "print (train[['FoodCourt', 'Transported']].groupby(train['FoodBand'], as_index=False).mean())"
   ],
   "metadata": {
    "collapsed": false
   }
  },
  {
   "cell_type": "code",
   "execution_count": 342,
   "outputs": [
    {
     "data": {
      "text/plain": "  PassengerId  HomePlanet  CryoSleep  Destination  Age  VIP  RoomService  \\\n0     0001_01           1          0            3    2    0            0   \n1     0002_01           0          0            3    1    0            0   \n2     0003_01           1          0            3    3    1            0   \n3     0003_02           1          0            3    2    0            0   \n4     0004_01           0          0            3    0    0            0   \n\n   FoodCourt  ShoppingMall     Spa  VRDeck  Transported  Side  Deck  \\\n0          0           0.0     0.0     0.0        False     1     0   \n1          0          25.0   549.0    44.0         True     5     1   \n2          1           0.0  6715.0    49.0        False     0     1   \n3          1         371.0  3329.0   193.0        False     0     1   \n4          0         151.0   565.0     2.0         True     5     1   \n\n        AgeBand           RoomBand           FoodBand  \n0  (31.6, 47.4]  (-14.327, 2865.4]  (-29.813, 5962.6]  \n1  (15.8, 31.6]  (-14.327, 2865.4]  (-29.813, 5962.6]  \n2  (47.4, 63.2]  (-14.327, 2865.4]  (-29.813, 5962.6]  \n3  (31.6, 47.4]  (-14.327, 2865.4]  (-29.813, 5962.6]  \n4  (15.8, 31.6]  (-14.327, 2865.4]  (-29.813, 5962.6]  ",
      "text/html": "<div>\n<style scoped>\n    .dataframe tbody tr th:only-of-type {\n        vertical-align: middle;\n    }\n\n    .dataframe tbody tr th {\n        vertical-align: top;\n    }\n\n    .dataframe thead th {\n        text-align: right;\n    }\n</style>\n<table border=\"1\" class=\"dataframe\">\n  <thead>\n    <tr style=\"text-align: right;\">\n      <th></th>\n      <th>PassengerId</th>\n      <th>HomePlanet</th>\n      <th>CryoSleep</th>\n      <th>Destination</th>\n      <th>Age</th>\n      <th>VIP</th>\n      <th>RoomService</th>\n      <th>FoodCourt</th>\n      <th>ShoppingMall</th>\n      <th>Spa</th>\n      <th>VRDeck</th>\n      <th>Transported</th>\n      <th>Side</th>\n      <th>Deck</th>\n      <th>AgeBand</th>\n      <th>RoomBand</th>\n      <th>FoodBand</th>\n    </tr>\n  </thead>\n  <tbody>\n    <tr>\n      <th>0</th>\n      <td>0001_01</td>\n      <td>1</td>\n      <td>0</td>\n      <td>3</td>\n      <td>2</td>\n      <td>0</td>\n      <td>0</td>\n      <td>0</td>\n      <td>0.0</td>\n      <td>0.0</td>\n      <td>0.0</td>\n      <td>False</td>\n      <td>1</td>\n      <td>0</td>\n      <td>(31.6, 47.4]</td>\n      <td>(-14.327, 2865.4]</td>\n      <td>(-29.813, 5962.6]</td>\n    </tr>\n    <tr>\n      <th>1</th>\n      <td>0002_01</td>\n      <td>0</td>\n      <td>0</td>\n      <td>3</td>\n      <td>1</td>\n      <td>0</td>\n      <td>0</td>\n      <td>0</td>\n      <td>25.0</td>\n      <td>549.0</td>\n      <td>44.0</td>\n      <td>True</td>\n      <td>5</td>\n      <td>1</td>\n      <td>(15.8, 31.6]</td>\n      <td>(-14.327, 2865.4]</td>\n      <td>(-29.813, 5962.6]</td>\n    </tr>\n    <tr>\n      <th>2</th>\n      <td>0003_01</td>\n      <td>1</td>\n      <td>0</td>\n      <td>3</td>\n      <td>3</td>\n      <td>1</td>\n      <td>0</td>\n      <td>1</td>\n      <td>0.0</td>\n      <td>6715.0</td>\n      <td>49.0</td>\n      <td>False</td>\n      <td>0</td>\n      <td>1</td>\n      <td>(47.4, 63.2]</td>\n      <td>(-14.327, 2865.4]</td>\n      <td>(-29.813, 5962.6]</td>\n    </tr>\n    <tr>\n      <th>3</th>\n      <td>0003_02</td>\n      <td>1</td>\n      <td>0</td>\n      <td>3</td>\n      <td>2</td>\n      <td>0</td>\n      <td>0</td>\n      <td>1</td>\n      <td>371.0</td>\n      <td>3329.0</td>\n      <td>193.0</td>\n      <td>False</td>\n      <td>0</td>\n      <td>1</td>\n      <td>(31.6, 47.4]</td>\n      <td>(-14.327, 2865.4]</td>\n      <td>(-29.813, 5962.6]</td>\n    </tr>\n    <tr>\n      <th>4</th>\n      <td>0004_01</td>\n      <td>0</td>\n      <td>0</td>\n      <td>3</td>\n      <td>0</td>\n      <td>0</td>\n      <td>0</td>\n      <td>0</td>\n      <td>151.0</td>\n      <td>565.0</td>\n      <td>2.0</td>\n      <td>True</td>\n      <td>5</td>\n      <td>1</td>\n      <td>(15.8, 31.6]</td>\n      <td>(-14.327, 2865.4]</td>\n      <td>(-29.813, 5962.6]</td>\n    </tr>\n  </tbody>\n</table>\n</div>"
     },
     "execution_count": 342,
     "metadata": {},
     "output_type": "execute_result"
    }
   ],
   "source": [
    "for dataset in train_test_data:\n",
    "    dataset.loc[ dataset['FoodCourt'] <= 284.180414, 'FoodCourt'] = 0\n",
    "    dataset.loc[(dataset['FoodCourt'] > 284.180414) & (dataset['FoodCourt'] <= 8197.964912), 'FoodCourt'] = 1\n",
    "    dataset.loc[(dataset['FoodCourt'] > 8197.964912) & (dataset['FoodCourt'] <= 14511.583333), 'FoodCourt'] = 2\n",
    "    dataset.loc[(dataset['FoodCourt'] > 14511.583333) & (dataset['FoodCourt'] <= 18851.500000), 'FoodCourt'] = 3\n",
    "    dataset.loc[ dataset['FoodCourt'] > 18851.500000, 'FoodCourt'] = 4\n",
    "train.head()"
   ],
   "metadata": {
    "collapsed": false
   }
  },
  {
   "cell_type": "code",
   "execution_count": 342,
   "outputs": [],
   "source": [],
   "metadata": {
    "collapsed": false
   }
  },
  {
   "cell_type": "code",
   "execution_count": 343,
   "outputs": [
    {
     "name": "stdout",
     "output_type": "stream",
     "text": [
      "   ShoppingMall  Transported\n",
      "0    150.766463     0.502826\n",
      "1   6106.777778     0.888889\n",
      "2  11127.333333     0.333333\n",
      "3           NaN          NaN\n",
      "4  23492.000000     1.000000\n"
     ]
    },
    {
     "name": "stderr",
     "output_type": "stream",
     "text": [
      "C:\\Users\\Александр\\AppData\\Local\\Temp\\ipykernel_6924\\2916727917.py:7: SettingWithCopyWarning: \n",
      "A value is trying to be set on a copy of a slice from a DataFrame\n",
      "\n",
      "See the caveats in the documentation: https://pandas.pydata.org/pandas-docs/stable/user_guide/indexing.html#returning-a-view-versus-a-copy\n",
      "  dataset['ShoppingMall'][np.isnan(dataset['ShoppingMall'])] = shop_null_random_list\n"
     ]
    }
   ],
   "source": [
    "for dataset in train_test_data:\n",
    "    shop_avg = dataset['ShoppingMall'].mean()\n",
    "    shop_std = dataset['ShoppingMall'].std()\n",
    "    shop_null_count = dataset['ShoppingMall'].isnull().sum()\n",
    "\n",
    "    shop_null_random_list = np.random.randint(shop_avg - shop_std, shop_avg + shop_std, size=shop_null_count)\n",
    "    dataset['ShoppingMall'][np.isnan(dataset['ShoppingMall'])] = shop_null_random_list\n",
    "    dataset['ShoppingMall'] = dataset['ShoppingMall'].astype(int)\n",
    "\n",
    "train['ShopBand'] = pd.cut(train['ShoppingMall'], 5)\n",
    "\n",
    "print (train[['ShoppingMall', 'Transported']].groupby(train['ShopBand'], as_index=False).mean())"
   ],
   "metadata": {
    "collapsed": false
   }
  },
  {
   "cell_type": "code",
   "execution_count": 344,
   "outputs": [
    {
     "data": {
      "text/plain": "  PassengerId  HomePlanet  CryoSleep  Destination  Age  VIP  RoomService  \\\n0     0001_01           1          0            3    2    0            0   \n1     0002_01           0          0            3    1    0            0   \n2     0003_01           1          0            3    3    1            0   \n3     0003_02           1          0            3    2    0            0   \n4     0004_01           0          0            3    0    0            0   \n\n   FoodCourt  ShoppingMall     Spa  VRDeck  Transported  Side  Deck  \\\n0          0             0     0.0     0.0        False     1     0   \n1          0             0   549.0    44.0         True     5     1   \n2          1             0  6715.0    49.0        False     0     1   \n3          1             1  3329.0   193.0        False     0     1   \n4          0             1   565.0     2.0         True     5     1   \n\n        AgeBand           RoomBand           FoodBand           ShopBand  \n0  (31.6, 47.4]  (-14.327, 2865.4]  (-29.813, 5962.6]  (-23.492, 4698.4]  \n1  (15.8, 31.6]  (-14.327, 2865.4]  (-29.813, 5962.6]  (-23.492, 4698.4]  \n2  (47.4, 63.2]  (-14.327, 2865.4]  (-29.813, 5962.6]  (-23.492, 4698.4]  \n3  (31.6, 47.4]  (-14.327, 2865.4]  (-29.813, 5962.6]  (-23.492, 4698.4]  \n4  (15.8, 31.6]  (-14.327, 2865.4]  (-29.813, 5962.6]  (-23.492, 4698.4]  ",
      "text/html": "<div>\n<style scoped>\n    .dataframe tbody tr th:only-of-type {\n        vertical-align: middle;\n    }\n\n    .dataframe tbody tr th {\n        vertical-align: top;\n    }\n\n    .dataframe thead th {\n        text-align: right;\n    }\n</style>\n<table border=\"1\" class=\"dataframe\">\n  <thead>\n    <tr style=\"text-align: right;\">\n      <th></th>\n      <th>PassengerId</th>\n      <th>HomePlanet</th>\n      <th>CryoSleep</th>\n      <th>Destination</th>\n      <th>Age</th>\n      <th>VIP</th>\n      <th>RoomService</th>\n      <th>FoodCourt</th>\n      <th>ShoppingMall</th>\n      <th>Spa</th>\n      <th>VRDeck</th>\n      <th>Transported</th>\n      <th>Side</th>\n      <th>Deck</th>\n      <th>AgeBand</th>\n      <th>RoomBand</th>\n      <th>FoodBand</th>\n      <th>ShopBand</th>\n    </tr>\n  </thead>\n  <tbody>\n    <tr>\n      <th>0</th>\n      <td>0001_01</td>\n      <td>1</td>\n      <td>0</td>\n      <td>3</td>\n      <td>2</td>\n      <td>0</td>\n      <td>0</td>\n      <td>0</td>\n      <td>0</td>\n      <td>0.0</td>\n      <td>0.0</td>\n      <td>False</td>\n      <td>1</td>\n      <td>0</td>\n      <td>(31.6, 47.4]</td>\n      <td>(-14.327, 2865.4]</td>\n      <td>(-29.813, 5962.6]</td>\n      <td>(-23.492, 4698.4]</td>\n    </tr>\n    <tr>\n      <th>1</th>\n      <td>0002_01</td>\n      <td>0</td>\n      <td>0</td>\n      <td>3</td>\n      <td>1</td>\n      <td>0</td>\n      <td>0</td>\n      <td>0</td>\n      <td>0</td>\n      <td>549.0</td>\n      <td>44.0</td>\n      <td>True</td>\n      <td>5</td>\n      <td>1</td>\n      <td>(15.8, 31.6]</td>\n      <td>(-14.327, 2865.4]</td>\n      <td>(-29.813, 5962.6]</td>\n      <td>(-23.492, 4698.4]</td>\n    </tr>\n    <tr>\n      <th>2</th>\n      <td>0003_01</td>\n      <td>1</td>\n      <td>0</td>\n      <td>3</td>\n      <td>3</td>\n      <td>1</td>\n      <td>0</td>\n      <td>1</td>\n      <td>0</td>\n      <td>6715.0</td>\n      <td>49.0</td>\n      <td>False</td>\n      <td>0</td>\n      <td>1</td>\n      <td>(47.4, 63.2]</td>\n      <td>(-14.327, 2865.4]</td>\n      <td>(-29.813, 5962.6]</td>\n      <td>(-23.492, 4698.4]</td>\n    </tr>\n    <tr>\n      <th>3</th>\n      <td>0003_02</td>\n      <td>1</td>\n      <td>0</td>\n      <td>3</td>\n      <td>2</td>\n      <td>0</td>\n      <td>0</td>\n      <td>1</td>\n      <td>1</td>\n      <td>3329.0</td>\n      <td>193.0</td>\n      <td>False</td>\n      <td>0</td>\n      <td>1</td>\n      <td>(31.6, 47.4]</td>\n      <td>(-14.327, 2865.4]</td>\n      <td>(-29.813, 5962.6]</td>\n      <td>(-23.492, 4698.4]</td>\n    </tr>\n    <tr>\n      <th>4</th>\n      <td>0004_01</td>\n      <td>0</td>\n      <td>0</td>\n      <td>3</td>\n      <td>0</td>\n      <td>0</td>\n      <td>0</td>\n      <td>0</td>\n      <td>1</td>\n      <td>565.0</td>\n      <td>2.0</td>\n      <td>True</td>\n      <td>5</td>\n      <td>1</td>\n      <td>(15.8, 31.6]</td>\n      <td>(-14.327, 2865.4]</td>\n      <td>(-29.813, 5962.6]</td>\n      <td>(-23.492, 4698.4]</td>\n    </tr>\n  </tbody>\n</table>\n</div>"
     },
     "execution_count": 344,
     "metadata": {},
     "output_type": "execute_result"
    }
   ],
   "source": [
    "for dataset in train_test_data:\n",
    "    dataset.loc[ dataset['ShoppingMall'] <= 150.766463, 'ShoppingMall'] = 0\n",
    "    dataset.loc[(dataset['ShoppingMall'] > 150.766463) & (dataset['ShoppingMall'] <= 6106.777778), 'ShoppingMall'] = 1\n",
    "    dataset.loc[(dataset['ShoppingMall'] > 6106.777778) & (dataset['ShoppingMall'] <= 11127.333333), 'ShoppingMall'] = 2\n",
    "    dataset.loc[(dataset['ShoppingMall'] > 11127.333333), 'ShoppingMall'] = 3\n",
    "train.head()"
   ],
   "metadata": {
    "collapsed": false
   }
  },
  {
   "cell_type": "code",
   "execution_count": 345,
   "outputs": [
    {
     "name": "stdout",
     "output_type": "stream",
     "text": [
      "            Spa  Transported\n",
      "0    197.351698     0.511031\n",
      "1   5948.863158     0.000000\n",
      "2  10914.380952     0.000000\n",
      "3  15219.375000     0.000000\n",
      "4  20490.000000     0.000000\n"
     ]
    },
    {
     "name": "stderr",
     "output_type": "stream",
     "text": [
      "C:\\Users\\Александр\\AppData\\Local\\Temp\\ipykernel_6924\\3256417486.py:7: SettingWithCopyWarning: \n",
      "A value is trying to be set on a copy of a slice from a DataFrame\n",
      "\n",
      "See the caveats in the documentation: https://pandas.pydata.org/pandas-docs/stable/user_guide/indexing.html#returning-a-view-versus-a-copy\n",
      "  dataset['Spa'][np.isnan(dataset['Spa'])] = spa_null_random_list\n"
     ]
    }
   ],
   "source": [
    "for dataset in train_test_data:\n",
    "    spa_avg = dataset['Spa'].mean()\n",
    "    spa_std = dataset['Spa'].std()\n",
    "    spa_null_count = dataset['Spa'].isnull().sum()\n",
    "\n",
    "    spa_null_random_list = np.random.randint(spa_avg - spa_std, spa_avg + spa_std, size=spa_null_count)\n",
    "    dataset['Spa'][np.isnan(dataset['Spa'])] = spa_null_random_list\n",
    "    dataset['Spa'] = dataset['Spa'].astype(int)\n",
    "\n",
    "train['SpaBand'] = pd.cut(train['Spa'], 5)\n",
    "\n",
    "print (train[['Spa', 'Transported']].groupby(train['SpaBand'], as_index=False).mean())"
   ],
   "metadata": {
    "collapsed": false
   }
  },
  {
   "cell_type": "code",
   "execution_count": 346,
   "outputs": [
    {
     "data": {
      "text/plain": "  PassengerId  HomePlanet  CryoSleep  Destination  Age  VIP  RoomService  \\\n0     0001_01           1          0            3    2    0            0   \n1     0002_01           0          0            3    1    0            0   \n2     0003_01           1          0            3    3    1            0   \n3     0003_02           1          0            3    2    0            0   \n4     0004_01           0          0            3    0    0            0   \n\n   FoodCourt  ShoppingMall  Spa  VRDeck  Transported  Side  Deck  \\\n0          0             0    0     0.0        False     1     0   \n1          0             0    1    44.0         True     5     1   \n2          1             0    2    49.0        False     0     1   \n3          1             1    1   193.0        False     0     1   \n4          0             1    1     2.0         True     5     1   \n\n        AgeBand           RoomBand           FoodBand           ShopBand  \\\n0  (31.6, 47.4]  (-14.327, 2865.4]  (-29.813, 5962.6]  (-23.492, 4698.4]   \n1  (15.8, 31.6]  (-14.327, 2865.4]  (-29.813, 5962.6]  (-23.492, 4698.4]   \n2  (47.4, 63.2]  (-14.327, 2865.4]  (-29.813, 5962.6]  (-23.492, 4698.4]   \n3  (31.6, 47.4]  (-14.327, 2865.4]  (-29.813, 5962.6]  (-23.492, 4698.4]   \n4  (15.8, 31.6]  (-14.327, 2865.4]  (-29.813, 5962.6]  (-23.492, 4698.4]   \n\n             SpaBand  \n0  (-22.408, 4481.6]  \n1  (-22.408, 4481.6]  \n2   (4481.6, 8963.2]  \n3  (-22.408, 4481.6]  \n4  (-22.408, 4481.6]  ",
      "text/html": "<div>\n<style scoped>\n    .dataframe tbody tr th:only-of-type {\n        vertical-align: middle;\n    }\n\n    .dataframe tbody tr th {\n        vertical-align: top;\n    }\n\n    .dataframe thead th {\n        text-align: right;\n    }\n</style>\n<table border=\"1\" class=\"dataframe\">\n  <thead>\n    <tr style=\"text-align: right;\">\n      <th></th>\n      <th>PassengerId</th>\n      <th>HomePlanet</th>\n      <th>CryoSleep</th>\n      <th>Destination</th>\n      <th>Age</th>\n      <th>VIP</th>\n      <th>RoomService</th>\n      <th>FoodCourt</th>\n      <th>ShoppingMall</th>\n      <th>Spa</th>\n      <th>VRDeck</th>\n      <th>Transported</th>\n      <th>Side</th>\n      <th>Deck</th>\n      <th>AgeBand</th>\n      <th>RoomBand</th>\n      <th>FoodBand</th>\n      <th>ShopBand</th>\n      <th>SpaBand</th>\n    </tr>\n  </thead>\n  <tbody>\n    <tr>\n      <th>0</th>\n      <td>0001_01</td>\n      <td>1</td>\n      <td>0</td>\n      <td>3</td>\n      <td>2</td>\n      <td>0</td>\n      <td>0</td>\n      <td>0</td>\n      <td>0</td>\n      <td>0</td>\n      <td>0.0</td>\n      <td>False</td>\n      <td>1</td>\n      <td>0</td>\n      <td>(31.6, 47.4]</td>\n      <td>(-14.327, 2865.4]</td>\n      <td>(-29.813, 5962.6]</td>\n      <td>(-23.492, 4698.4]</td>\n      <td>(-22.408, 4481.6]</td>\n    </tr>\n    <tr>\n      <th>1</th>\n      <td>0002_01</td>\n      <td>0</td>\n      <td>0</td>\n      <td>3</td>\n      <td>1</td>\n      <td>0</td>\n      <td>0</td>\n      <td>0</td>\n      <td>0</td>\n      <td>1</td>\n      <td>44.0</td>\n      <td>True</td>\n      <td>5</td>\n      <td>1</td>\n      <td>(15.8, 31.6]</td>\n      <td>(-14.327, 2865.4]</td>\n      <td>(-29.813, 5962.6]</td>\n      <td>(-23.492, 4698.4]</td>\n      <td>(-22.408, 4481.6]</td>\n    </tr>\n    <tr>\n      <th>2</th>\n      <td>0003_01</td>\n      <td>1</td>\n      <td>0</td>\n      <td>3</td>\n      <td>3</td>\n      <td>1</td>\n      <td>0</td>\n      <td>1</td>\n      <td>0</td>\n      <td>2</td>\n      <td>49.0</td>\n      <td>False</td>\n      <td>0</td>\n      <td>1</td>\n      <td>(47.4, 63.2]</td>\n      <td>(-14.327, 2865.4]</td>\n      <td>(-29.813, 5962.6]</td>\n      <td>(-23.492, 4698.4]</td>\n      <td>(4481.6, 8963.2]</td>\n    </tr>\n    <tr>\n      <th>3</th>\n      <td>0003_02</td>\n      <td>1</td>\n      <td>0</td>\n      <td>3</td>\n      <td>2</td>\n      <td>0</td>\n      <td>0</td>\n      <td>1</td>\n      <td>1</td>\n      <td>1</td>\n      <td>193.0</td>\n      <td>False</td>\n      <td>0</td>\n      <td>1</td>\n      <td>(31.6, 47.4]</td>\n      <td>(-14.327, 2865.4]</td>\n      <td>(-29.813, 5962.6]</td>\n      <td>(-23.492, 4698.4]</td>\n      <td>(-22.408, 4481.6]</td>\n    </tr>\n    <tr>\n      <th>4</th>\n      <td>0004_01</td>\n      <td>0</td>\n      <td>0</td>\n      <td>3</td>\n      <td>0</td>\n      <td>0</td>\n      <td>0</td>\n      <td>0</td>\n      <td>1</td>\n      <td>1</td>\n      <td>2.0</td>\n      <td>True</td>\n      <td>5</td>\n      <td>1</td>\n      <td>(15.8, 31.6]</td>\n      <td>(-14.327, 2865.4]</td>\n      <td>(-29.813, 5962.6]</td>\n      <td>(-23.492, 4698.4]</td>\n      <td>(-22.408, 4481.6]</td>\n    </tr>\n  </tbody>\n</table>\n</div>"
     },
     "execution_count": 346,
     "metadata": {},
     "output_type": "execute_result"
    }
   ],
   "source": [
    "for dataset in train_test_data:\n",
    "    dataset.loc[ dataset['Spa'] <= 197.351698, 'Spa'] = 0\n",
    "    dataset.loc[(dataset['Spa'] > 197.351698) & (dataset['Spa'] <= 5948.863158), 'Spa'] = 1\n",
    "    dataset.loc[(dataset['Spa'] > 5948.863158) & (dataset['Spa'] <= 10914.380952), 'Spa'] = 2\n",
    "    dataset.loc[(dataset['Spa'] > 10914.380952) & (dataset['Spa'] <= 15219.375000), 'Spa'] = 3\n",
    "    dataset.loc[ dataset['Spa'] > 15219.375000, 'Spa'] = 4\n",
    "train.head()"
   ],
   "metadata": {
    "collapsed": false
   }
  },
  {
   "cell_type": "code",
   "execution_count": 347,
   "outputs": [
    {
     "name": "stdout",
     "output_type": "stream",
     "text": [
      "         VRDeck  Transported\n",
      "0    191.894590     0.510378\n",
      "1   6478.813953     0.011628\n",
      "2  11210.120000     0.000000\n",
      "3  16300.500000     0.000000\n",
      "4  22234.500000     0.000000\n"
     ]
    },
    {
     "name": "stderr",
     "output_type": "stream",
     "text": [
      "C:\\Users\\Александр\\AppData\\Local\\Temp\\ipykernel_6924\\3391351363.py:7: SettingWithCopyWarning: \n",
      "A value is trying to be set on a copy of a slice from a DataFrame\n",
      "\n",
      "See the caveats in the documentation: https://pandas.pydata.org/pandas-docs/stable/user_guide/indexing.html#returning-a-view-versus-a-copy\n",
      "  dataset['VRDeck'][np.isnan(dataset['VRDeck'])] = vr_null_random_list\n"
     ]
    }
   ],
   "source": [
    "for dataset in train_test_data:\n",
    "    vr_avg = dataset['VRDeck'].mean()\n",
    "    vr_std = dataset['VRDeck'].std()\n",
    "    vr_null_count = dataset['VRDeck'].isnull().sum()\n",
    "\n",
    "    vr_null_random_list = np.random.randint(vr_avg - vr_std, vr_avg + vr_std, size=vr_null_count)\n",
    "    dataset['VRDeck'][np.isnan(dataset['VRDeck'])] = vr_null_random_list\n",
    "    dataset['VRDeck'] = dataset['VRDeck'].astype(int)\n",
    "\n",
    "train['VRBand'] = pd.cut(train['VRDeck'], 5)\n",
    "\n",
    "print (train[['VRDeck', 'Transported']].groupby(train['VRBand'], as_index=False).mean())"
   ],
   "metadata": {
    "collapsed": false
   }
  },
  {
   "cell_type": "code",
   "execution_count": 348,
   "outputs": [
    {
     "data": {
      "text/plain": "  PassengerId  HomePlanet  CryoSleep  Destination  Age  VIP  RoomService  \\\n0     0001_01           1          0            3    2    0            0   \n1     0002_01           0          0            3    1    0            0   \n2     0003_01           1          0            3    3    1            0   \n3     0003_02           1          0            3    2    0            0   \n4     0004_01           0          0            3    0    0            0   \n\n   FoodCourt  ShoppingMall  Spa  VRDeck  Transported  Side  Deck  \\\n0          0             0    0       0        False     1     0   \n1          0             0    1       0         True     5     1   \n2          1             0    2       0        False     0     1   \n3          1             1    1       1        False     0     1   \n4          0             1    1       0         True     5     1   \n\n        AgeBand           RoomBand           FoodBand           ShopBand  \\\n0  (31.6, 47.4]  (-14.327, 2865.4]  (-29.813, 5962.6]  (-23.492, 4698.4]   \n1  (15.8, 31.6]  (-14.327, 2865.4]  (-29.813, 5962.6]  (-23.492, 4698.4]   \n2  (47.4, 63.2]  (-14.327, 2865.4]  (-29.813, 5962.6]  (-23.492, 4698.4]   \n3  (31.6, 47.4]  (-14.327, 2865.4]  (-29.813, 5962.6]  (-23.492, 4698.4]   \n4  (15.8, 31.6]  (-14.327, 2865.4]  (-29.813, 5962.6]  (-23.492, 4698.4]   \n\n             SpaBand             VRBand  \n0  (-22.408, 4481.6]  (-24.133, 4826.6]  \n1  (-22.408, 4481.6]  (-24.133, 4826.6]  \n2   (4481.6, 8963.2]  (-24.133, 4826.6]  \n3  (-22.408, 4481.6]  (-24.133, 4826.6]  \n4  (-22.408, 4481.6]  (-24.133, 4826.6]  ",
      "text/html": "<div>\n<style scoped>\n    .dataframe tbody tr th:only-of-type {\n        vertical-align: middle;\n    }\n\n    .dataframe tbody tr th {\n        vertical-align: top;\n    }\n\n    .dataframe thead th {\n        text-align: right;\n    }\n</style>\n<table border=\"1\" class=\"dataframe\">\n  <thead>\n    <tr style=\"text-align: right;\">\n      <th></th>\n      <th>PassengerId</th>\n      <th>HomePlanet</th>\n      <th>CryoSleep</th>\n      <th>Destination</th>\n      <th>Age</th>\n      <th>VIP</th>\n      <th>RoomService</th>\n      <th>FoodCourt</th>\n      <th>ShoppingMall</th>\n      <th>Spa</th>\n      <th>VRDeck</th>\n      <th>Transported</th>\n      <th>Side</th>\n      <th>Deck</th>\n      <th>AgeBand</th>\n      <th>RoomBand</th>\n      <th>FoodBand</th>\n      <th>ShopBand</th>\n      <th>SpaBand</th>\n      <th>VRBand</th>\n    </tr>\n  </thead>\n  <tbody>\n    <tr>\n      <th>0</th>\n      <td>0001_01</td>\n      <td>1</td>\n      <td>0</td>\n      <td>3</td>\n      <td>2</td>\n      <td>0</td>\n      <td>0</td>\n      <td>0</td>\n      <td>0</td>\n      <td>0</td>\n      <td>0</td>\n      <td>False</td>\n      <td>1</td>\n      <td>0</td>\n      <td>(31.6, 47.4]</td>\n      <td>(-14.327, 2865.4]</td>\n      <td>(-29.813, 5962.6]</td>\n      <td>(-23.492, 4698.4]</td>\n      <td>(-22.408, 4481.6]</td>\n      <td>(-24.133, 4826.6]</td>\n    </tr>\n    <tr>\n      <th>1</th>\n      <td>0002_01</td>\n      <td>0</td>\n      <td>0</td>\n      <td>3</td>\n      <td>1</td>\n      <td>0</td>\n      <td>0</td>\n      <td>0</td>\n      <td>0</td>\n      <td>1</td>\n      <td>0</td>\n      <td>True</td>\n      <td>5</td>\n      <td>1</td>\n      <td>(15.8, 31.6]</td>\n      <td>(-14.327, 2865.4]</td>\n      <td>(-29.813, 5962.6]</td>\n      <td>(-23.492, 4698.4]</td>\n      <td>(-22.408, 4481.6]</td>\n      <td>(-24.133, 4826.6]</td>\n    </tr>\n    <tr>\n      <th>2</th>\n      <td>0003_01</td>\n      <td>1</td>\n      <td>0</td>\n      <td>3</td>\n      <td>3</td>\n      <td>1</td>\n      <td>0</td>\n      <td>1</td>\n      <td>0</td>\n      <td>2</td>\n      <td>0</td>\n      <td>False</td>\n      <td>0</td>\n      <td>1</td>\n      <td>(47.4, 63.2]</td>\n      <td>(-14.327, 2865.4]</td>\n      <td>(-29.813, 5962.6]</td>\n      <td>(-23.492, 4698.4]</td>\n      <td>(4481.6, 8963.2]</td>\n      <td>(-24.133, 4826.6]</td>\n    </tr>\n    <tr>\n      <th>3</th>\n      <td>0003_02</td>\n      <td>1</td>\n      <td>0</td>\n      <td>3</td>\n      <td>2</td>\n      <td>0</td>\n      <td>0</td>\n      <td>1</td>\n      <td>1</td>\n      <td>1</td>\n      <td>1</td>\n      <td>False</td>\n      <td>0</td>\n      <td>1</td>\n      <td>(31.6, 47.4]</td>\n      <td>(-14.327, 2865.4]</td>\n      <td>(-29.813, 5962.6]</td>\n      <td>(-23.492, 4698.4]</td>\n      <td>(-22.408, 4481.6]</td>\n      <td>(-24.133, 4826.6]</td>\n    </tr>\n    <tr>\n      <th>4</th>\n      <td>0004_01</td>\n      <td>0</td>\n      <td>0</td>\n      <td>3</td>\n      <td>0</td>\n      <td>0</td>\n      <td>0</td>\n      <td>0</td>\n      <td>1</td>\n      <td>1</td>\n      <td>0</td>\n      <td>True</td>\n      <td>5</td>\n      <td>1</td>\n      <td>(15.8, 31.6]</td>\n      <td>(-14.327, 2865.4]</td>\n      <td>(-29.813, 5962.6]</td>\n      <td>(-23.492, 4698.4]</td>\n      <td>(-22.408, 4481.6]</td>\n      <td>(-24.133, 4826.6]</td>\n    </tr>\n  </tbody>\n</table>\n</div>"
     },
     "execution_count": 348,
     "metadata": {},
     "output_type": "execute_result"
    }
   ],
   "source": [
    "for dataset in train_test_data:\n",
    "    dataset.loc[ dataset['VRDeck'] <= 191.894590, 'VRDeck'] = 0\n",
    "    dataset.loc[(dataset['VRDeck'] > 191.894590) & (dataset['VRDeck'] <= 6478.813953), 'VRDeck'] = 1\n",
    "    dataset.loc[(dataset['VRDeck'] > 6478.813953) & (dataset['VRDeck'] <= 11210.120000), 'VRDeck'] = 2\n",
    "    dataset.loc[(dataset['VRDeck'] > 11210.120000) & (dataset['VRDeck'] <= 16300.500000), 'VRDeck'] = 3\n",
    "    dataset.loc[ dataset['VRDeck'] > 16300.500000, 'VRDeck'] = 4\n",
    "train.head()"
   ],
   "metadata": {
    "collapsed": false
   }
  },
  {
   "cell_type": "code",
   "execution_count": 349,
   "outputs": [
    {
     "data": {
      "text/plain": "     PassengerId  HomePlanet  CryoSleep  Destination  Age  VIP  RoomService  \\\n0        0001_01           1          0            3    2    0            0   \n1        0002_01           0          0            3    1    0            0   \n2        0003_01           1          0            3    3    1            0   \n3        0003_02           1          0            3    2    0            0   \n4        0004_01           0          0            3    0    0            0   \n...          ...         ...        ...          ...  ...  ...          ...   \n8688     9276_01           1          0            0    2    1            0   \n8689     9278_01           0          1            1    1    0            0   \n8690     9279_01           0          0            3    1    0            0   \n8691     9280_01           1          0            0    1    0            0   \n8692     9280_02           1          0            3    2    0            0   \n\n      FoodCourt  ShoppingMall  Spa  VRDeck  Transported  Side  Deck  \\\n0             0             0    0       0        False     1     0   \n1             0             0    1       0         True     5     1   \n2             1             0    2       0        False     0     1   \n3             1             1    1       1        False     0     1   \n4             0             1    1       0         True     5     1   \n...         ...           ...  ...     ...          ...   ...   ...   \n8688          1             0    1       0        False     0     0   \n8689          0             0    0       0        False     6     1   \n8690          0             1    0       0         True     6     1   \n8691          1             0    1       1        False     4     1   \n8692          1             0    0       0         True     4     1   \n\n           AgeBand           RoomBand           FoodBand           ShopBand  \\\n0     (31.6, 47.4]  (-14.327, 2865.4]  (-29.813, 5962.6]  (-23.492, 4698.4]   \n1     (15.8, 31.6]  (-14.327, 2865.4]  (-29.813, 5962.6]  (-23.492, 4698.4]   \n2     (47.4, 63.2]  (-14.327, 2865.4]  (-29.813, 5962.6]  (-23.492, 4698.4]   \n3     (31.6, 47.4]  (-14.327, 2865.4]  (-29.813, 5962.6]  (-23.492, 4698.4]   \n4     (15.8, 31.6]  (-14.327, 2865.4]  (-29.813, 5962.6]  (-23.492, 4698.4]   \n...            ...                ...                ...                ...   \n8688  (31.6, 47.4]  (-14.327, 2865.4]  (5962.6, 11925.2]  (-23.492, 4698.4]   \n8689  (15.8, 31.6]  (-14.327, 2865.4]  (-29.813, 5962.6]  (-23.492, 4698.4]   \n8690  (15.8, 31.6]  (-14.327, 2865.4]  (-29.813, 5962.6]  (-23.492, 4698.4]   \n8691  (31.6, 47.4]  (-14.327, 2865.4]  (-29.813, 5962.6]  (-23.492, 4698.4]   \n8692  (31.6, 47.4]  (-14.327, 2865.4]  (-29.813, 5962.6]  (-23.492, 4698.4]   \n\n                SpaBand             VRBand  \n0     (-22.408, 4481.6]  (-24.133, 4826.6]  \n1     (-22.408, 4481.6]  (-24.133, 4826.6]  \n2      (4481.6, 8963.2]  (-24.133, 4826.6]  \n3     (-22.408, 4481.6]  (-24.133, 4826.6]  \n4     (-22.408, 4481.6]  (-24.133, 4826.6]  \n...                 ...                ...  \n8688  (-22.408, 4481.6]  (-24.133, 4826.6]  \n8689  (-22.408, 4481.6]  (-24.133, 4826.6]  \n8690  (-22.408, 4481.6]  (-24.133, 4826.6]  \n8691  (-22.408, 4481.6]  (-24.133, 4826.6]  \n8692  (-22.408, 4481.6]  (-24.133, 4826.6]  \n\n[8693 rows x 20 columns]",
      "text/html": "<div>\n<style scoped>\n    .dataframe tbody tr th:only-of-type {\n        vertical-align: middle;\n    }\n\n    .dataframe tbody tr th {\n        vertical-align: top;\n    }\n\n    .dataframe thead th {\n        text-align: right;\n    }\n</style>\n<table border=\"1\" class=\"dataframe\">\n  <thead>\n    <tr style=\"text-align: right;\">\n      <th></th>\n      <th>PassengerId</th>\n      <th>HomePlanet</th>\n      <th>CryoSleep</th>\n      <th>Destination</th>\n      <th>Age</th>\n      <th>VIP</th>\n      <th>RoomService</th>\n      <th>FoodCourt</th>\n      <th>ShoppingMall</th>\n      <th>Spa</th>\n      <th>VRDeck</th>\n      <th>Transported</th>\n      <th>Side</th>\n      <th>Deck</th>\n      <th>AgeBand</th>\n      <th>RoomBand</th>\n      <th>FoodBand</th>\n      <th>ShopBand</th>\n      <th>SpaBand</th>\n      <th>VRBand</th>\n    </tr>\n  </thead>\n  <tbody>\n    <tr>\n      <th>0</th>\n      <td>0001_01</td>\n      <td>1</td>\n      <td>0</td>\n      <td>3</td>\n      <td>2</td>\n      <td>0</td>\n      <td>0</td>\n      <td>0</td>\n      <td>0</td>\n      <td>0</td>\n      <td>0</td>\n      <td>False</td>\n      <td>1</td>\n      <td>0</td>\n      <td>(31.6, 47.4]</td>\n      <td>(-14.327, 2865.4]</td>\n      <td>(-29.813, 5962.6]</td>\n      <td>(-23.492, 4698.4]</td>\n      <td>(-22.408, 4481.6]</td>\n      <td>(-24.133, 4826.6]</td>\n    </tr>\n    <tr>\n      <th>1</th>\n      <td>0002_01</td>\n      <td>0</td>\n      <td>0</td>\n      <td>3</td>\n      <td>1</td>\n      <td>0</td>\n      <td>0</td>\n      <td>0</td>\n      <td>0</td>\n      <td>1</td>\n      <td>0</td>\n      <td>True</td>\n      <td>5</td>\n      <td>1</td>\n      <td>(15.8, 31.6]</td>\n      <td>(-14.327, 2865.4]</td>\n      <td>(-29.813, 5962.6]</td>\n      <td>(-23.492, 4698.4]</td>\n      <td>(-22.408, 4481.6]</td>\n      <td>(-24.133, 4826.6]</td>\n    </tr>\n    <tr>\n      <th>2</th>\n      <td>0003_01</td>\n      <td>1</td>\n      <td>0</td>\n      <td>3</td>\n      <td>3</td>\n      <td>1</td>\n      <td>0</td>\n      <td>1</td>\n      <td>0</td>\n      <td>2</td>\n      <td>0</td>\n      <td>False</td>\n      <td>0</td>\n      <td>1</td>\n      <td>(47.4, 63.2]</td>\n      <td>(-14.327, 2865.4]</td>\n      <td>(-29.813, 5962.6]</td>\n      <td>(-23.492, 4698.4]</td>\n      <td>(4481.6, 8963.2]</td>\n      <td>(-24.133, 4826.6]</td>\n    </tr>\n    <tr>\n      <th>3</th>\n      <td>0003_02</td>\n      <td>1</td>\n      <td>0</td>\n      <td>3</td>\n      <td>2</td>\n      <td>0</td>\n      <td>0</td>\n      <td>1</td>\n      <td>1</td>\n      <td>1</td>\n      <td>1</td>\n      <td>False</td>\n      <td>0</td>\n      <td>1</td>\n      <td>(31.6, 47.4]</td>\n      <td>(-14.327, 2865.4]</td>\n      <td>(-29.813, 5962.6]</td>\n      <td>(-23.492, 4698.4]</td>\n      <td>(-22.408, 4481.6]</td>\n      <td>(-24.133, 4826.6]</td>\n    </tr>\n    <tr>\n      <th>4</th>\n      <td>0004_01</td>\n      <td>0</td>\n      <td>0</td>\n      <td>3</td>\n      <td>0</td>\n      <td>0</td>\n      <td>0</td>\n      <td>0</td>\n      <td>1</td>\n      <td>1</td>\n      <td>0</td>\n      <td>True</td>\n      <td>5</td>\n      <td>1</td>\n      <td>(15.8, 31.6]</td>\n      <td>(-14.327, 2865.4]</td>\n      <td>(-29.813, 5962.6]</td>\n      <td>(-23.492, 4698.4]</td>\n      <td>(-22.408, 4481.6]</td>\n      <td>(-24.133, 4826.6]</td>\n    </tr>\n    <tr>\n      <th>...</th>\n      <td>...</td>\n      <td>...</td>\n      <td>...</td>\n      <td>...</td>\n      <td>...</td>\n      <td>...</td>\n      <td>...</td>\n      <td>...</td>\n      <td>...</td>\n      <td>...</td>\n      <td>...</td>\n      <td>...</td>\n      <td>...</td>\n      <td>...</td>\n      <td>...</td>\n      <td>...</td>\n      <td>...</td>\n      <td>...</td>\n      <td>...</td>\n      <td>...</td>\n    </tr>\n    <tr>\n      <th>8688</th>\n      <td>9276_01</td>\n      <td>1</td>\n      <td>0</td>\n      <td>0</td>\n      <td>2</td>\n      <td>1</td>\n      <td>0</td>\n      <td>1</td>\n      <td>0</td>\n      <td>1</td>\n      <td>0</td>\n      <td>False</td>\n      <td>0</td>\n      <td>0</td>\n      <td>(31.6, 47.4]</td>\n      <td>(-14.327, 2865.4]</td>\n      <td>(5962.6, 11925.2]</td>\n      <td>(-23.492, 4698.4]</td>\n      <td>(-22.408, 4481.6]</td>\n      <td>(-24.133, 4826.6]</td>\n    </tr>\n    <tr>\n      <th>8689</th>\n      <td>9278_01</td>\n      <td>0</td>\n      <td>1</td>\n      <td>1</td>\n      <td>1</td>\n      <td>0</td>\n      <td>0</td>\n      <td>0</td>\n      <td>0</td>\n      <td>0</td>\n      <td>0</td>\n      <td>False</td>\n      <td>6</td>\n      <td>1</td>\n      <td>(15.8, 31.6]</td>\n      <td>(-14.327, 2865.4]</td>\n      <td>(-29.813, 5962.6]</td>\n      <td>(-23.492, 4698.4]</td>\n      <td>(-22.408, 4481.6]</td>\n      <td>(-24.133, 4826.6]</td>\n    </tr>\n    <tr>\n      <th>8690</th>\n      <td>9279_01</td>\n      <td>0</td>\n      <td>0</td>\n      <td>3</td>\n      <td>1</td>\n      <td>0</td>\n      <td>0</td>\n      <td>0</td>\n      <td>1</td>\n      <td>0</td>\n      <td>0</td>\n      <td>True</td>\n      <td>6</td>\n      <td>1</td>\n      <td>(15.8, 31.6]</td>\n      <td>(-14.327, 2865.4]</td>\n      <td>(-29.813, 5962.6]</td>\n      <td>(-23.492, 4698.4]</td>\n      <td>(-22.408, 4481.6]</td>\n      <td>(-24.133, 4826.6]</td>\n    </tr>\n    <tr>\n      <th>8691</th>\n      <td>9280_01</td>\n      <td>1</td>\n      <td>0</td>\n      <td>0</td>\n      <td>1</td>\n      <td>0</td>\n      <td>0</td>\n      <td>1</td>\n      <td>0</td>\n      <td>1</td>\n      <td>1</td>\n      <td>False</td>\n      <td>4</td>\n      <td>1</td>\n      <td>(31.6, 47.4]</td>\n      <td>(-14.327, 2865.4]</td>\n      <td>(-29.813, 5962.6]</td>\n      <td>(-23.492, 4698.4]</td>\n      <td>(-22.408, 4481.6]</td>\n      <td>(-24.133, 4826.6]</td>\n    </tr>\n    <tr>\n      <th>8692</th>\n      <td>9280_02</td>\n      <td>1</td>\n      <td>0</td>\n      <td>3</td>\n      <td>2</td>\n      <td>0</td>\n      <td>0</td>\n      <td>1</td>\n      <td>0</td>\n      <td>0</td>\n      <td>0</td>\n      <td>True</td>\n      <td>4</td>\n      <td>1</td>\n      <td>(31.6, 47.4]</td>\n      <td>(-14.327, 2865.4]</td>\n      <td>(-29.813, 5962.6]</td>\n      <td>(-23.492, 4698.4]</td>\n      <td>(-22.408, 4481.6]</td>\n      <td>(-24.133, 4826.6]</td>\n    </tr>\n  </tbody>\n</table>\n<p>8693 rows × 20 columns</p>\n</div>"
     },
     "execution_count": 349,
     "metadata": {},
     "output_type": "execute_result"
    }
   ],
   "source": [
    "train"
   ],
   "metadata": {
    "collapsed": false
   }
  },
  {
   "cell_type": "code",
   "execution_count": 350,
   "outputs": [],
   "source": [
    "train['Transported'] = train['Transported'].astype(int)"
   ],
   "metadata": {
    "collapsed": false
   }
  },
  {
   "cell_type": "code",
   "execution_count": 351,
   "outputs": [],
   "source": [
    "for dataset in [train]:\n",
    "    dataset.drop(['PassengerId'],axis=1,inplace=True)\n",
    "    dataset.drop(['AgeBand'],axis=1,inplace=True)\n",
    "    dataset.drop(['RoomBand'],axis=1,inplace=True)\n",
    "    dataset.drop(['FoodBand'],axis=1,inplace=True)\n",
    "    dataset.drop(['ShopBand'],axis=1,inplace=True)\n",
    "    dataset.drop(['SpaBand'],axis=1,inplace=True)\n",
    "    dataset.drop(['VRBand'],axis=1,inplace=True)"
   ],
   "metadata": {
    "collapsed": false
   }
  },
  {
   "cell_type": "code",
   "execution_count": 352,
   "outputs": [
    {
     "data": {
      "text/plain": "      HomePlanet  CryoSleep  Destination  Age  VIP  RoomService  FoodCourt  \\\n0              1          0            3    2    0            0          0   \n1              0          0            3    1    0            0          0   \n2              1          0            3    3    1            0          1   \n3              1          0            3    2    0            0          1   \n4              0          0            3    0    0            0          0   \n...          ...        ...          ...  ...  ...          ...        ...   \n8688           1          0            0    2    1            0          1   \n8689           0          1            1    1    0            0          0   \n8690           0          0            3    1    0            0          0   \n8691           1          0            0    1    0            0          1   \n8692           1          0            3    2    0            0          1   \n\n      ShoppingMall  Spa  VRDeck  Transported  Side  Deck  \n0                0    0       0            0     1     0  \n1                0    1       0            1     5     1  \n2                0    2       0            0     0     1  \n3                1    1       1            0     0     1  \n4                1    1       0            1     5     1  \n...            ...  ...     ...          ...   ...   ...  \n8688             0    1       0            0     0     0  \n8689             0    0       0            0     6     1  \n8690             1    0       0            1     6     1  \n8691             0    1       1            0     4     1  \n8692             0    0       0            1     4     1  \n\n[8693 rows x 13 columns]",
      "text/html": "<div>\n<style scoped>\n    .dataframe tbody tr th:only-of-type {\n        vertical-align: middle;\n    }\n\n    .dataframe tbody tr th {\n        vertical-align: top;\n    }\n\n    .dataframe thead th {\n        text-align: right;\n    }\n</style>\n<table border=\"1\" class=\"dataframe\">\n  <thead>\n    <tr style=\"text-align: right;\">\n      <th></th>\n      <th>HomePlanet</th>\n      <th>CryoSleep</th>\n      <th>Destination</th>\n      <th>Age</th>\n      <th>VIP</th>\n      <th>RoomService</th>\n      <th>FoodCourt</th>\n      <th>ShoppingMall</th>\n      <th>Spa</th>\n      <th>VRDeck</th>\n      <th>Transported</th>\n      <th>Side</th>\n      <th>Deck</th>\n    </tr>\n  </thead>\n  <tbody>\n    <tr>\n      <th>0</th>\n      <td>1</td>\n      <td>0</td>\n      <td>3</td>\n      <td>2</td>\n      <td>0</td>\n      <td>0</td>\n      <td>0</td>\n      <td>0</td>\n      <td>0</td>\n      <td>0</td>\n      <td>0</td>\n      <td>1</td>\n      <td>0</td>\n    </tr>\n    <tr>\n      <th>1</th>\n      <td>0</td>\n      <td>0</td>\n      <td>3</td>\n      <td>1</td>\n      <td>0</td>\n      <td>0</td>\n      <td>0</td>\n      <td>0</td>\n      <td>1</td>\n      <td>0</td>\n      <td>1</td>\n      <td>5</td>\n      <td>1</td>\n    </tr>\n    <tr>\n      <th>2</th>\n      <td>1</td>\n      <td>0</td>\n      <td>3</td>\n      <td>3</td>\n      <td>1</td>\n      <td>0</td>\n      <td>1</td>\n      <td>0</td>\n      <td>2</td>\n      <td>0</td>\n      <td>0</td>\n      <td>0</td>\n      <td>1</td>\n    </tr>\n    <tr>\n      <th>3</th>\n      <td>1</td>\n      <td>0</td>\n      <td>3</td>\n      <td>2</td>\n      <td>0</td>\n      <td>0</td>\n      <td>1</td>\n      <td>1</td>\n      <td>1</td>\n      <td>1</td>\n      <td>0</td>\n      <td>0</td>\n      <td>1</td>\n    </tr>\n    <tr>\n      <th>4</th>\n      <td>0</td>\n      <td>0</td>\n      <td>3</td>\n      <td>0</td>\n      <td>0</td>\n      <td>0</td>\n      <td>0</td>\n      <td>1</td>\n      <td>1</td>\n      <td>0</td>\n      <td>1</td>\n      <td>5</td>\n      <td>1</td>\n    </tr>\n    <tr>\n      <th>...</th>\n      <td>...</td>\n      <td>...</td>\n      <td>...</td>\n      <td>...</td>\n      <td>...</td>\n      <td>...</td>\n      <td>...</td>\n      <td>...</td>\n      <td>...</td>\n      <td>...</td>\n      <td>...</td>\n      <td>...</td>\n      <td>...</td>\n    </tr>\n    <tr>\n      <th>8688</th>\n      <td>1</td>\n      <td>0</td>\n      <td>0</td>\n      <td>2</td>\n      <td>1</td>\n      <td>0</td>\n      <td>1</td>\n      <td>0</td>\n      <td>1</td>\n      <td>0</td>\n      <td>0</td>\n      <td>0</td>\n      <td>0</td>\n    </tr>\n    <tr>\n      <th>8689</th>\n      <td>0</td>\n      <td>1</td>\n      <td>1</td>\n      <td>1</td>\n      <td>0</td>\n      <td>0</td>\n      <td>0</td>\n      <td>0</td>\n      <td>0</td>\n      <td>0</td>\n      <td>0</td>\n      <td>6</td>\n      <td>1</td>\n    </tr>\n    <tr>\n      <th>8690</th>\n      <td>0</td>\n      <td>0</td>\n      <td>3</td>\n      <td>1</td>\n      <td>0</td>\n      <td>0</td>\n      <td>0</td>\n      <td>1</td>\n      <td>0</td>\n      <td>0</td>\n      <td>1</td>\n      <td>6</td>\n      <td>1</td>\n    </tr>\n    <tr>\n      <th>8691</th>\n      <td>1</td>\n      <td>0</td>\n      <td>0</td>\n      <td>1</td>\n      <td>0</td>\n      <td>0</td>\n      <td>1</td>\n      <td>0</td>\n      <td>1</td>\n      <td>1</td>\n      <td>0</td>\n      <td>4</td>\n      <td>1</td>\n    </tr>\n    <tr>\n      <th>8692</th>\n      <td>1</td>\n      <td>0</td>\n      <td>3</td>\n      <td>2</td>\n      <td>0</td>\n      <td>0</td>\n      <td>1</td>\n      <td>0</td>\n      <td>0</td>\n      <td>0</td>\n      <td>1</td>\n      <td>4</td>\n      <td>1</td>\n    </tr>\n  </tbody>\n</table>\n<p>8693 rows × 13 columns</p>\n</div>"
     },
     "execution_count": 352,
     "metadata": {},
     "output_type": "execute_result"
    }
   ],
   "source": [
    "train"
   ],
   "metadata": {
    "collapsed": false
   }
  },
  {
   "cell_type": "code",
   "execution_count": 353,
   "outputs": [
    {
     "data": {
      "text/plain": "((8693, 12), (8693,))"
     },
     "execution_count": 353,
     "metadata": {},
     "output_type": "execute_result"
    }
   ],
   "source": [
    "X_train = train.drop('Transported', axis=1)\n",
    "y_train = train['Transported']\n",
    "\n",
    "\n",
    "X_train.shape, y_train.shape"
   ],
   "metadata": {
    "collapsed": false
   }
  },
  {
   "cell_type": "code",
   "execution_count": 354,
   "outputs": [
    {
     "data": {
      "text/plain": "     PassengerId  HomePlanet  CryoSleep  Destination  Age  VIP  RoomService  \\\n0        0013_01           0          1            3    1    0            0   \n1        0018_01           0          0            3    1    0            0   \n2        0019_01           1          1            0    1    0            0   \n3        0021_01           1          0            3    2    0            0   \n4        0023_01           0          0            3    1    0            0   \n...          ...         ...        ...          ...  ...  ...          ...   \n4272     9266_02           0          1            3    2    0            0   \n4273     9269_01           0          0            3    2    0            0   \n4274     9271_01           2          1            0    0    0            0   \n4275     9273_01           1          0            2    2    0            0   \n4276     9277_01           0          1            1    2    0            0   \n\n      FoodCourt  ShoppingMall  Spa  VRDeck  Side  Deck  \n0             0             0    0       0     6     1  \n1             0             0    1       0     5     1  \n2             0             0    0       0     2     1  \n3             1             0    0       1     2     1  \n4             0             1    0       0     5     1  \n...         ...           ...  ...     ...   ...   ...  \n4272          0             0    0       0     6     1  \n4273          1             0    0       0     8     2  \n4274          0             0    0       0     3     0  \n4275          1             0    0       1     3     0  \n4276          0             0    0       0     6     1  \n\n[4277 rows x 13 columns]",
      "text/html": "<div>\n<style scoped>\n    .dataframe tbody tr th:only-of-type {\n        vertical-align: middle;\n    }\n\n    .dataframe tbody tr th {\n        vertical-align: top;\n    }\n\n    .dataframe thead th {\n        text-align: right;\n    }\n</style>\n<table border=\"1\" class=\"dataframe\">\n  <thead>\n    <tr style=\"text-align: right;\">\n      <th></th>\n      <th>PassengerId</th>\n      <th>HomePlanet</th>\n      <th>CryoSleep</th>\n      <th>Destination</th>\n      <th>Age</th>\n      <th>VIP</th>\n      <th>RoomService</th>\n      <th>FoodCourt</th>\n      <th>ShoppingMall</th>\n      <th>Spa</th>\n      <th>VRDeck</th>\n      <th>Side</th>\n      <th>Deck</th>\n    </tr>\n  </thead>\n  <tbody>\n    <tr>\n      <th>0</th>\n      <td>0013_01</td>\n      <td>0</td>\n      <td>1</td>\n      <td>3</td>\n      <td>1</td>\n      <td>0</td>\n      <td>0</td>\n      <td>0</td>\n      <td>0</td>\n      <td>0</td>\n      <td>0</td>\n      <td>6</td>\n      <td>1</td>\n    </tr>\n    <tr>\n      <th>1</th>\n      <td>0018_01</td>\n      <td>0</td>\n      <td>0</td>\n      <td>3</td>\n      <td>1</td>\n      <td>0</td>\n      <td>0</td>\n      <td>0</td>\n      <td>0</td>\n      <td>1</td>\n      <td>0</td>\n      <td>5</td>\n      <td>1</td>\n    </tr>\n    <tr>\n      <th>2</th>\n      <td>0019_01</td>\n      <td>1</td>\n      <td>1</td>\n      <td>0</td>\n      <td>1</td>\n      <td>0</td>\n      <td>0</td>\n      <td>0</td>\n      <td>0</td>\n      <td>0</td>\n      <td>0</td>\n      <td>2</td>\n      <td>1</td>\n    </tr>\n    <tr>\n      <th>3</th>\n      <td>0021_01</td>\n      <td>1</td>\n      <td>0</td>\n      <td>3</td>\n      <td>2</td>\n      <td>0</td>\n      <td>0</td>\n      <td>1</td>\n      <td>0</td>\n      <td>0</td>\n      <td>1</td>\n      <td>2</td>\n      <td>1</td>\n    </tr>\n    <tr>\n      <th>4</th>\n      <td>0023_01</td>\n      <td>0</td>\n      <td>0</td>\n      <td>3</td>\n      <td>1</td>\n      <td>0</td>\n      <td>0</td>\n      <td>0</td>\n      <td>1</td>\n      <td>0</td>\n      <td>0</td>\n      <td>5</td>\n      <td>1</td>\n    </tr>\n    <tr>\n      <th>...</th>\n      <td>...</td>\n      <td>...</td>\n      <td>...</td>\n      <td>...</td>\n      <td>...</td>\n      <td>...</td>\n      <td>...</td>\n      <td>...</td>\n      <td>...</td>\n      <td>...</td>\n      <td>...</td>\n      <td>...</td>\n      <td>...</td>\n    </tr>\n    <tr>\n      <th>4272</th>\n      <td>9266_02</td>\n      <td>0</td>\n      <td>1</td>\n      <td>3</td>\n      <td>2</td>\n      <td>0</td>\n      <td>0</td>\n      <td>0</td>\n      <td>0</td>\n      <td>0</td>\n      <td>0</td>\n      <td>6</td>\n      <td>1</td>\n    </tr>\n    <tr>\n      <th>4273</th>\n      <td>9269_01</td>\n      <td>0</td>\n      <td>0</td>\n      <td>3</td>\n      <td>2</td>\n      <td>0</td>\n      <td>0</td>\n      <td>1</td>\n      <td>0</td>\n      <td>0</td>\n      <td>0</td>\n      <td>8</td>\n      <td>2</td>\n    </tr>\n    <tr>\n      <th>4274</th>\n      <td>9271_01</td>\n      <td>2</td>\n      <td>1</td>\n      <td>0</td>\n      <td>0</td>\n      <td>0</td>\n      <td>0</td>\n      <td>0</td>\n      <td>0</td>\n      <td>0</td>\n      <td>0</td>\n      <td>3</td>\n      <td>0</td>\n    </tr>\n    <tr>\n      <th>4275</th>\n      <td>9273_01</td>\n      <td>1</td>\n      <td>0</td>\n      <td>2</td>\n      <td>2</td>\n      <td>0</td>\n      <td>0</td>\n      <td>1</td>\n      <td>0</td>\n      <td>0</td>\n      <td>1</td>\n      <td>3</td>\n      <td>0</td>\n    </tr>\n    <tr>\n      <th>4276</th>\n      <td>9277_01</td>\n      <td>0</td>\n      <td>1</td>\n      <td>1</td>\n      <td>2</td>\n      <td>0</td>\n      <td>0</td>\n      <td>0</td>\n      <td>0</td>\n      <td>0</td>\n      <td>0</td>\n      <td>6</td>\n      <td>1</td>\n    </tr>\n  </tbody>\n</table>\n<p>4277 rows × 13 columns</p>\n</div>"
     },
     "execution_count": 354,
     "metadata": {},
     "output_type": "execute_result"
    }
   ],
   "source": [
    "test"
   ],
   "metadata": {
    "collapsed": false
   }
  },
  {
   "cell_type": "code",
   "execution_count": 355,
   "outputs": [
    {
     "data": {
      "text/plain": "     PassengerId  HomePlanet  CryoSleep  Destination  Age  VIP  RoomService  \\\n0        0013_01           0          1            3    1    0            0   \n1        0018_01           0          0            3    1    0            0   \n2        0019_01           1          1            0    1    0            0   \n3        0021_01           1          0            3    2    0            0   \n4        0023_01           0          0            3    1    0            0   \n...          ...         ...        ...          ...  ...  ...          ...   \n4272     9266_02           0          1            3    2    0            0   \n4273     9269_01           0          0            3    2    0            0   \n4274     9271_01           2          1            0    0    0            0   \n4275     9273_01           1          0            2    2    0            0   \n4276     9277_01           0          1            1    2    0            0   \n\n      FoodCourt  ShoppingMall  Spa  VRDeck  Side  Deck  \n0             0             0    0       0     6     1  \n1             0             0    1       0     5     1  \n2             0             0    0       0     2     1  \n3             1             0    0       1     2     1  \n4             0             1    0       0     5     1  \n...         ...           ...  ...     ...   ...   ...  \n4272          0             0    0       0     6     1  \n4273          1             0    0       0     8     2  \n4274          0             0    0       0     3     0  \n4275          1             0    0       1     3     0  \n4276          0             0    0       0     6     1  \n\n[4277 rows x 13 columns]",
      "text/html": "<div>\n<style scoped>\n    .dataframe tbody tr th:only-of-type {\n        vertical-align: middle;\n    }\n\n    .dataframe tbody tr th {\n        vertical-align: top;\n    }\n\n    .dataframe thead th {\n        text-align: right;\n    }\n</style>\n<table border=\"1\" class=\"dataframe\">\n  <thead>\n    <tr style=\"text-align: right;\">\n      <th></th>\n      <th>PassengerId</th>\n      <th>HomePlanet</th>\n      <th>CryoSleep</th>\n      <th>Destination</th>\n      <th>Age</th>\n      <th>VIP</th>\n      <th>RoomService</th>\n      <th>FoodCourt</th>\n      <th>ShoppingMall</th>\n      <th>Spa</th>\n      <th>VRDeck</th>\n      <th>Side</th>\n      <th>Deck</th>\n    </tr>\n  </thead>\n  <tbody>\n    <tr>\n      <th>0</th>\n      <td>0013_01</td>\n      <td>0</td>\n      <td>1</td>\n      <td>3</td>\n      <td>1</td>\n      <td>0</td>\n      <td>0</td>\n      <td>0</td>\n      <td>0</td>\n      <td>0</td>\n      <td>0</td>\n      <td>6</td>\n      <td>1</td>\n    </tr>\n    <tr>\n      <th>1</th>\n      <td>0018_01</td>\n      <td>0</td>\n      <td>0</td>\n      <td>3</td>\n      <td>1</td>\n      <td>0</td>\n      <td>0</td>\n      <td>0</td>\n      <td>0</td>\n      <td>1</td>\n      <td>0</td>\n      <td>5</td>\n      <td>1</td>\n    </tr>\n    <tr>\n      <th>2</th>\n      <td>0019_01</td>\n      <td>1</td>\n      <td>1</td>\n      <td>0</td>\n      <td>1</td>\n      <td>0</td>\n      <td>0</td>\n      <td>0</td>\n      <td>0</td>\n      <td>0</td>\n      <td>0</td>\n      <td>2</td>\n      <td>1</td>\n    </tr>\n    <tr>\n      <th>3</th>\n      <td>0021_01</td>\n      <td>1</td>\n      <td>0</td>\n      <td>3</td>\n      <td>2</td>\n      <td>0</td>\n      <td>0</td>\n      <td>1</td>\n      <td>0</td>\n      <td>0</td>\n      <td>1</td>\n      <td>2</td>\n      <td>1</td>\n    </tr>\n    <tr>\n      <th>4</th>\n      <td>0023_01</td>\n      <td>0</td>\n      <td>0</td>\n      <td>3</td>\n      <td>1</td>\n      <td>0</td>\n      <td>0</td>\n      <td>0</td>\n      <td>1</td>\n      <td>0</td>\n      <td>0</td>\n      <td>5</td>\n      <td>1</td>\n    </tr>\n    <tr>\n      <th>...</th>\n      <td>...</td>\n      <td>...</td>\n      <td>...</td>\n      <td>...</td>\n      <td>...</td>\n      <td>...</td>\n      <td>...</td>\n      <td>...</td>\n      <td>...</td>\n      <td>...</td>\n      <td>...</td>\n      <td>...</td>\n      <td>...</td>\n    </tr>\n    <tr>\n      <th>4272</th>\n      <td>9266_02</td>\n      <td>0</td>\n      <td>1</td>\n      <td>3</td>\n      <td>2</td>\n      <td>0</td>\n      <td>0</td>\n      <td>0</td>\n      <td>0</td>\n      <td>0</td>\n      <td>0</td>\n      <td>6</td>\n      <td>1</td>\n    </tr>\n    <tr>\n      <th>4273</th>\n      <td>9269_01</td>\n      <td>0</td>\n      <td>0</td>\n      <td>3</td>\n      <td>2</td>\n      <td>0</td>\n      <td>0</td>\n      <td>1</td>\n      <td>0</td>\n      <td>0</td>\n      <td>0</td>\n      <td>8</td>\n      <td>2</td>\n    </tr>\n    <tr>\n      <th>4274</th>\n      <td>9271_01</td>\n      <td>2</td>\n      <td>1</td>\n      <td>0</td>\n      <td>0</td>\n      <td>0</td>\n      <td>0</td>\n      <td>0</td>\n      <td>0</td>\n      <td>0</td>\n      <td>0</td>\n      <td>3</td>\n      <td>0</td>\n    </tr>\n    <tr>\n      <th>4275</th>\n      <td>9273_01</td>\n      <td>1</td>\n      <td>0</td>\n      <td>2</td>\n      <td>2</td>\n      <td>0</td>\n      <td>0</td>\n      <td>1</td>\n      <td>0</td>\n      <td>0</td>\n      <td>1</td>\n      <td>3</td>\n      <td>0</td>\n    </tr>\n    <tr>\n      <th>4276</th>\n      <td>9277_01</td>\n      <td>0</td>\n      <td>1</td>\n      <td>1</td>\n      <td>2</td>\n      <td>0</td>\n      <td>0</td>\n      <td>0</td>\n      <td>0</td>\n      <td>0</td>\n      <td>0</td>\n      <td>6</td>\n      <td>1</td>\n    </tr>\n  </tbody>\n</table>\n<p>4277 rows × 13 columns</p>\n</div>"
     },
     "execution_count": 355,
     "metadata": {},
     "output_type": "execute_result"
    }
   ],
   "source": [
    "X_test = test.drop('PassengerId',axis = 1)\n",
    "test"
   ],
   "metadata": {
    "collapsed": false
   }
  },
  {
   "cell_type": "code",
   "execution_count": 356,
   "outputs": [],
   "source": [
    "from sklearn.linear_model import LogisticRegression\n",
    "from sklearn.svm import SVC, LinearSVC\n",
    "from sklearn.neighbors import KNeighborsClassifier\n",
    "from sklearn.tree import DecisionTreeClassifier\n",
    "from sklearn.ensemble import RandomForestClassifier\n",
    "from sklearn.naive_bayes import GaussianNB\n",
    "from sklearn.linear_model import Perceptron\n",
    "from sklearn.linear_model import SGDClassifier"
   ],
   "metadata": {
    "collapsed": false
   }
  },
  {
   "cell_type": "code",
   "execution_count": 357,
   "outputs": [
    {
     "name": "stdout",
     "output_type": "stream",
     "text": [
      "74.95\n"
     ]
    }
   ],
   "source": [
    "clf = SVC()\n",
    "clf.fit(X_train, y_train)\n",
    "y_pred_svc = clf.predict(X_test)\n",
    "acc_svc = round(clf.score(X_train, y_train) * 100, 2)\n",
    "print (acc_svc)"
   ],
   "metadata": {
    "collapsed": false
   }
  },
  {
   "cell_type": "code",
   "execution_count": 358,
   "outputs": [
    {
     "name": "stdout",
     "output_type": "stream",
     "text": [
      "74.9\n"
     ]
    },
    {
     "name": "stderr",
     "output_type": "stream",
     "text": [
      "C:\\Users\\Александр\\Desktop\\ML\\env\\Lib\\site-packages\\sklearn\\svm\\_base.py:1225: ConvergenceWarning: Liblinear failed to converge, increase the number of iterations.\n",
      "  warnings.warn(\n"
     ]
    }
   ],
   "source": [
    "clf = LinearSVC()\n",
    "clf.fit(X_train, y_train)\n",
    "y_pred_linear_svc = clf.predict(X_test)\n",
    "acc_linear_svc = round(clf.score(X_train, y_train) * 100, 2)\n",
    "print (acc_linear_svc)"
   ],
   "metadata": {
    "collapsed": false
   }
  },
  {
   "cell_type": "code",
   "execution_count": 359,
   "outputs": [
    {
     "name": "stdout",
     "output_type": "stream",
     "text": [
      "77.06\n"
     ]
    }
   ],
   "source": [
    "clf = KNeighborsClassifier(n_neighbors = 3)\n",
    "clf.fit(X_train, y_train)\n",
    "y_pred_knn = clf.predict(X_test)\n",
    "acc_knn = round(clf.score(X_train, y_train) * 100, 2)\n",
    "print (acc_knn)"
   ],
   "metadata": {
    "collapsed": false
   }
  },
  {
   "cell_type": "code",
   "execution_count": 360,
   "outputs": [
    {
     "name": "stdout",
     "output_type": "stream",
     "text": [
      "82.24\n"
     ]
    }
   ],
   "source": [
    "clf = DecisionTreeClassifier()\n",
    "clf.fit(X_train, y_train)\n",
    "y_pred_decision_tree = clf.predict(X_test)\n",
    "acc_decision_tree = round(clf.score(X_train, y_train) * 100, 2)\n",
    "print (acc_decision_tree)"
   ],
   "metadata": {
    "collapsed": false
   }
  },
  {
   "cell_type": "code",
   "execution_count": 361,
   "outputs": [
    {
     "name": "stdout",
     "output_type": "stream",
     "text": [
      "82.24\n"
     ]
    }
   ],
   "source": [
    "clf = RandomForestClassifier(n_estimators=100)\n",
    "clf.fit(X_train, y_train)\n",
    "y_pred_random_forest = clf.predict(X_test)\n",
    "acc_random_forest = round(clf.score(X_train, y_train) * 100, 2)\n",
    "print (acc_random_forest)"
   ],
   "metadata": {
    "collapsed": false
   }
  },
  {
   "cell_type": "code",
   "execution_count": 362,
   "outputs": [
    {
     "name": "stdout",
     "output_type": "stream",
     "text": [
      "69.85\n"
     ]
    }
   ],
   "source": [
    "clf = GaussianNB()\n",
    "clf.fit(X_train, y_train)\n",
    "y_pred_gnb = clf.predict(X_test)\n",
    "acc_gnb = round(clf.score(X_train, y_train) * 100, 2)\n",
    "print (acc_gnb)"
   ],
   "metadata": {
    "collapsed": false
   }
  },
  {
   "cell_type": "code",
   "execution_count": 363,
   "outputs": [
    {
     "name": "stdout",
     "output_type": "stream",
     "text": [
      "73.69\n"
     ]
    }
   ],
   "source": [
    "clf = Perceptron(max_iter=5, tol=None)\n",
    "clf.fit(X_train, y_train)\n",
    "y_pred_perceptron = clf.predict(X_test)\n",
    "acc_perceptron = round(clf.score(X_train, y_train) * 100, 2)\n",
    "print (acc_perceptron)"
   ],
   "metadata": {
    "collapsed": false
   }
  },
  {
   "cell_type": "code",
   "execution_count": 364,
   "outputs": [
    {
     "name": "stdout",
     "output_type": "stream",
     "text": [
      "66.73\n"
     ]
    }
   ],
   "source": [
    "clf = SGDClassifier(max_iter=5, tol=None)\n",
    "clf.fit(X_train, y_train)\n",
    "y_pred_sgd = clf.predict(X_test)\n",
    "acc_sgd = round(clf.score(X_train, y_train) * 100, 2)\n",
    "print (acc_sgd)"
   ],
   "metadata": {
    "collapsed": false
   }
  },
  {
   "cell_type": "code",
   "execution_count": 365,
   "outputs": [
    {
     "data": {
      "text/plain": "0.77568"
     },
     "execution_count": 365,
     "metadata": {},
     "output_type": "execute_result"
    }
   ],
   "source": [
    "from sklearn.ensemble import GradientBoostingClassifier\n",
    "\n",
    "gbc = GradientBoostingClassifier()\n",
    "gbc.fit(X_train, y_train)\n",
    "gbc_score = round(gbc.score(X_train, y_train), 5)\n",
    "gbc_score"
   ],
   "metadata": {
    "collapsed": false
   }
  },
  {
   "cell_type": "code",
   "execution_count": 366,
   "outputs": [
    {
     "name": "stdout",
     "output_type": "stream",
     "text": [
      "Accuracy: 82 % \n",
      "\n"
     ]
    },
    {
     "data": {
      "text/plain": "<AxesSubplot: >"
     },
     "execution_count": 366,
     "metadata": {},
     "output_type": "execute_result"
    },
    {
     "data": {
      "text/plain": "<Figure size 1500x500 with 4 Axes>",
      "image/png": "[encoded data removed]"
     },
     "metadata": {},
     "output_type": "display_data"
    }
   ],
   "source": [
    "from sklearn.metrics import confusion_matrix\n",
    "import itertools\n",
    "\n",
    "clf = RandomForestClassifier(n_estimators=100)\n",
    "clf.fit(X_train, y_train)\n",
    "y_pred_random_forest_training_set = clf.predict(X_train)\n",
    "acc_random_forest = round(clf.score(X_train, y_train) * 100, 2)\n",
    "print (\"Accuracy: %i %% \\n\"%acc_random_forest)\n",
    "\n",
    "class_names = ['Survived', 'Not Survived']\n",
    "\n",
    "# Compute confusion matrix\n",
    "cnf_matrix = confusion_matrix(y_train, y_pred_random_forest_training_set)\n",
    "\n",
    "cnf_matrix_percent = cnf_matrix.astype('float') / cnf_matrix.sum(axis=1)[:, np.newaxis]\n",
    "\n",
    "\n",
    "true_class_names = ['True Survived', 'True Not Survived']\n",
    "predicted_class_names = ['Predicted Survived', 'Predicted Not Survived']\n",
    "\n",
    "df_cnf_matrix = pd.DataFrame(cnf_matrix,\n",
    "                             index = true_class_names,\n",
    "                             columns = predicted_class_names)\n",
    "\n",
    "df_cnf_matrix_percent = pd.DataFrame(cnf_matrix_percent,\n",
    "                                     index = true_class_names,\n",
    "                                     columns = predicted_class_names)\n",
    "\n",
    "plt.figure(figsize = (15,5))\n",
    "\n",
    "plt.subplot(121)\n",
    "sns.heatmap(df_cnf_matrix, annot=True, fmt='d')\n",
    "\n",
    "plt.subplot(122)\n",
    "sns.heatmap(df_cnf_matrix_percent, annot=True)"
   ],
   "metadata": {
    "collapsed": false
   }
  },
  {
   "cell_type": "code",
   "execution_count": 367,
   "outputs": [
    {
     "name": "stdout",
     "output_type": "stream",
     "text": [
      "Accuracy: 73 % \n",
      "\n"
     ]
    },
    {
     "data": {
      "text/plain": "<Figure size 1500x500 with 4 Axes>",
      "image/png": "[encoded data removed]"
     },
     "metadata": {},
     "output_type": "display_data"
    }
   ],
   "source": [
    "clf = Perceptron(max_iter=5, tol=None)\n",
    "clf.fit(X_train, y_train)\n",
    "y_pred_perceptron = clf.predict(X_train)\n",
    "\n",
    "acc_perceptron = round(clf.score(X_train, y_train) * 100, 2)\n",
    "print (\"Accuracy: %i %% \\n\"%acc_perceptron)\n",
    "\n",
    "#class_names = ['Survived', 'Not Survived']\n",
    "\n",
    "# Compute confusion matrix\n",
    "cnf_matrix = confusion_matrix(y_train, y_pred_perceptron)\n",
    "cnf_matrix_percent = cnf_matrix.astype('float') / cnf_matrix.sum(axis=1)[:, np.newaxis]\n",
    "\n",
    "#true_class_names = ['True Survived', 'True Not Survived']\n",
    "#predicted_class_names = ['Predicted Survived', 'Predicted Not Survived']\n",
    "\n",
    "df_cnf_matrix = pd.DataFrame(cnf_matrix,\n",
    "                             index = true_class_names,\n",
    "                             columns = predicted_class_names)\n",
    "\n",
    "df_cnf_matrix_percent = pd.DataFrame(cnf_matrix_percent,\n",
    "                                     index = true_class_names,\n",
    "                                     columns = predicted_class_names)\n",
    "\n",
    "plt.figure(figsize = (15,5))\n",
    "\n",
    "ax1 = plt.subplot(121)\n",
    "sns.heatmap(df_cnf_matrix, annot=True, fmt='d')\n",
    "ax1.title.set_text('Perceptron: values')\n",
    "\n",
    "ax2 = plt.subplot(122)\n",
    "sns.heatmap(df_cnf_matrix_percent, annot=True)\n",
    "ax2.title.set_text('Perceptron: %')"
   ],
   "metadata": {
    "collapsed": false
   }
  },
  {
   "cell_type": "code",
   "execution_count": 368,
   "outputs": [
    {
     "name": "stdout",
     "output_type": "stream",
     "text": [
      "Accuracy: 73 % \n",
      "\n"
     ]
    },
    {
     "data": {
      "text/plain": "<Figure size 1500x500 with 4 Axes>",
      "image/png": "[encoded data removed]"
     },
     "metadata": {},
     "output_type": "display_data"
    }
   ],
   "source": [
    "from sklearn.ensemble import VotingClassifier\n",
    "\n",
    "# 1. Dыбираем модели, включенные в голосование\n",
    "model1 = Perceptron(max_iter=5, tol=None)\n",
    "model2 = SGDClassifier(max_iter=5, tol=None)\n",
    "model3 = GaussianNB()\n",
    "\n",
    "# 2. Сам \"голосующий\" классификатор\n",
    "model = VotingClassifier(estimators=[('perceptron', model1), ('sdg', model2), ('nb', model3)], voting='hard')\n",
    "model.fit(X_train,y_train)\n",
    "\n",
    "# 3. Confusion Matrix\n",
    "y_pred_voter = model.predict(X_train)\n",
    "acc_voter = round(model.score(X_train, y_train) * 100, 2)\n",
    "print (\"Accuracy: %i %% \\n\"%acc_voter)\n",
    "\n",
    "#class_names = ['Survived', 'Not Survived']\n",
    "\n",
    "# Compute confusion matrix\n",
    "cnf_matrix = confusion_matrix(y_train, y_pred_voter)\n",
    "cnf_matrix_percent = cnf_matrix.astype('float') / cnf_matrix.sum(axis=1)[:, np.newaxis]\n",
    "\n",
    "#true_class_names = ['True Survived', 'True Not Survived']\n",
    "#predicted_class_names = ['Predicted Survived', 'Predicted Not Survived']\n",
    "\n",
    "df_cnf_matrix = pd.DataFrame(cnf_matrix,\n",
    "                             index = true_class_names,\n",
    "                             columns = predicted_class_names)\n",
    "\n",
    "df_cnf_matrix_percent = pd.DataFrame(cnf_matrix_percent,\n",
    "                                     index = true_class_names,\n",
    "                                     columns = predicted_class_names)\n",
    "\n",
    "plt.figure(figsize = (15,5))\n",
    "\n",
    "ax1 = plt.subplot(121)\n",
    "sns.heatmap(df_cnf_matrix, annot=True, fmt='d')\n",
    "ax1.title.set_text('Voting: values')\n",
    "\n",
    "ax2 = plt.subplot(122)\n",
    "sns.heatmap(df_cnf_matrix_percent, annot=True)\n",
    "ax2.title.set_text('Voting: %')"
   ],
   "metadata": {
    "collapsed": false
   }
  },
  {
   "cell_type": "code",
   "execution_count": 369,
   "outputs": [],
   "source": [
    "test.head()\n",
    "submission = pd.DataFrame({\n",
    "    \"PassengerId\": test[\"PassengerId\"],\n",
    "    \"Transported\": gbc.predict(X_test)\n",
    "})\n",
    "sample = pd.read_csv('sample_submission.csv')\n",
    "sample.Transported = gbc.predict(X_test)\n",
    "sample.loc[sample['Transported'] == 1,'Transported'] = True\n",
    "sample.loc[sample['Transported'] == 0,'Transported'] = False\n",
    "sample.to_csv('asdcadcasdc.csv',index=False)"
   ],
   "metadata": {
    "collapsed": false
   }
  }
 ],
 "metadata": {
  "kernelspec": {
   "display_name": "Python 3",
   "language": "python",
   "name": "python3"
  },
  "language_info": {
   "codemirror_mode": {
    "name": "ipython",
    "version": 2
   },
   "file_extension": ".py",
   "mimetype": "text/x-python",
   "name": "python",
   "nbconvert_exporter": "python",
   "pygments_lexer": "ipython2",
   "version": "2.7.6"
  }
 },
 "nbformat": 4,
 "nbformat_minor": 0
}
